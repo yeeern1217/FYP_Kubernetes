{
 "cells": [
  {
   "cell_type": "markdown",
   "metadata": {},
   "source": [
    "# Autoencoder "
   ]
  },
  {
   "cell_type": "code",
   "execution_count": null,
   "metadata": {},
   "outputs": [
    {
     "name": "stderr",
     "output_type": "stream",
     "text": [
      "WARNING:absl:At this time, the v2.11+ optimizer `tf.keras.optimizers.Adam` runs slowly on M1/M2 Macs, please use the legacy Keras optimizer instead, located at `tf.keras.optimizers.legacy.Adam`.\n",
      "WARNING:absl:There is a known slowdown when using v2.11+ Keras optimizers on M1/M2 Macs. Falling back to the legacy Keras optimizer, i.e., `tf.keras.optimizers.legacy.Adam`.\n"
     ]
    },
    {
     "name": "stdout",
     "output_type": "stream",
     "text": [
      "Processing file: /Users/zxgan/FYP_Kubernetes/Dataset/cleaned_dataset/node_node_0_dataset.csv\n",
      "Node 0 - Testing parameters: {'batch_size': 32, 'epochs': 50, 'hidden_layer_1': 64, 'hidden_layer_2': 32, 'learning_rate': 0.001}\n",
      "3/3 [==============================] - 0s 631us/step\n"
     ]
    },
    {
     "name": "stderr",
     "output_type": "stream",
     "text": [
      "/Library/Frameworks/Python.framework/Versions/3.11/lib/python3.11/site-packages/keras/src/engine/training.py:3000: UserWarning: You are saving your model as an HDF5 file via `model.save()`. This file format is considered legacy. We recommend using instead the native Keras format, e.g. `model.save('my_model.keras')`.\n",
      "  saving_api.save_model(\n",
      "WARNING:absl:At this time, the v2.11+ optimizer `tf.keras.optimizers.Adam` runs slowly on M1/M2 Macs, please use the legacy Keras optimizer instead, located at `tf.keras.optimizers.legacy.Adam`.\n",
      "WARNING:absl:There is a known slowdown when using v2.11+ Keras optimizers on M1/M2 Macs. Falling back to the legacy Keras optimizer, i.e., `tf.keras.optimizers.legacy.Adam`.\n"
     ]
    },
    {
     "name": "stdout",
     "output_type": "stream",
     "text": [
      "Node 0 - Best Parameters: {'batch_size': 32, 'epochs': 50, 'hidden_layer_1': 64, 'hidden_layer_2': 32, 'learning_rate': 0.001}\n",
      "Node 0 - Best Accuracy: 0.9402985074626866\n",
      "Node 0 - Number of anomalies detected: 4\n",
      "Model saved: Autoencoder_Model_Node_0.h5\n",
      "Processing file: /Users/zxgan/FYP_Kubernetes/Dataset/cleaned_dataset/node_node_1_dataset.csv\n",
      "Node 1 - Testing parameters: {'batch_size': 32, 'epochs': 50, 'hidden_layer_1': 64, 'hidden_layer_2': 32, 'learning_rate': 0.001}\n",
      "2/2 [==============================] - 0s 930us/step\n"
     ]
    },
    {
     "name": "stderr",
     "output_type": "stream",
     "text": [
      "/Library/Frameworks/Python.framework/Versions/3.11/lib/python3.11/site-packages/keras/src/engine/training.py:3000: UserWarning: You are saving your model as an HDF5 file via `model.save()`. This file format is considered legacy. We recommend using instead the native Keras format, e.g. `model.save('my_model.keras')`.\n",
      "  saving_api.save_model(\n",
      "WARNING:absl:At this time, the v2.11+ optimizer `tf.keras.optimizers.Adam` runs slowly on M1/M2 Macs, please use the legacy Keras optimizer instead, located at `tf.keras.optimizers.legacy.Adam`.\n",
      "WARNING:absl:There is a known slowdown when using v2.11+ Keras optimizers on M1/M2 Macs. Falling back to the legacy Keras optimizer, i.e., `tf.keras.optimizers.legacy.Adam`.\n"
     ]
    },
    {
     "name": "stdout",
     "output_type": "stream",
     "text": [
      "Node 1 - Best Parameters: {'batch_size': 32, 'epochs': 50, 'hidden_layer_1': 64, 'hidden_layer_2': 32, 'learning_rate': 0.001}\n",
      "Node 1 - Best Accuracy: 0.9508196721311475\n",
      "Node 1 - Number of anomalies detected: 3\n",
      "Model saved: Autoencoder_Model_Node_1.h5\n",
      "Processing file: /Users/zxgan/FYP_Kubernetes/Dataset/cleaned_dataset/node_node_2_dataset.csv\n",
      "Node 2 - Testing parameters: {'batch_size': 32, 'epochs': 50, 'hidden_layer_1': 64, 'hidden_layer_2': 32, 'learning_rate': 0.001}\n",
      "2/2 [==============================] - 0s 872us/step\n"
     ]
    },
    {
     "name": "stderr",
     "output_type": "stream",
     "text": [
      "/Library/Frameworks/Python.framework/Versions/3.11/lib/python3.11/site-packages/keras/src/engine/training.py:3000: UserWarning: You are saving your model as an HDF5 file via `model.save()`. This file format is considered legacy. We recommend using instead the native Keras format, e.g. `model.save('my_model.keras')`.\n",
      "  saving_api.save_model(\n",
      "WARNING:absl:At this time, the v2.11+ optimizer `tf.keras.optimizers.Adam` runs slowly on M1/M2 Macs, please use the legacy Keras optimizer instead, located at `tf.keras.optimizers.legacy.Adam`.\n",
      "WARNING:absl:There is a known slowdown when using v2.11+ Keras optimizers on M1/M2 Macs. Falling back to the legacy Keras optimizer, i.e., `tf.keras.optimizers.legacy.Adam`.\n"
     ]
    },
    {
     "name": "stdout",
     "output_type": "stream",
     "text": [
      "Node 2 - Best Parameters: {'batch_size': 32, 'epochs': 50, 'hidden_layer_1': 64, 'hidden_layer_2': 32, 'learning_rate': 0.001}\n",
      "Node 2 - Best Accuracy: 0.9508196721311475\n",
      "Node 2 - Number of anomalies detected: 3\n",
      "Model saved: Autoencoder_Model_Node_2.h5\n",
      "Processing file: /Users/zxgan/FYP_Kubernetes/Dataset/cleaned_dataset/node_node_3_dataset.csv\n",
      "Node 3 - Testing parameters: {'batch_size': 32, 'epochs': 50, 'hidden_layer_1': 64, 'hidden_layer_2': 32, 'learning_rate': 0.001}\n",
      "2/2 [==============================] - 0s 859us/step\n"
     ]
    },
    {
     "name": "stderr",
     "output_type": "stream",
     "text": [
      "/Library/Frameworks/Python.framework/Versions/3.11/lib/python3.11/site-packages/keras/src/engine/training.py:3000: UserWarning: You are saving your model as an HDF5 file via `model.save()`. This file format is considered legacy. We recommend using instead the native Keras format, e.g. `model.save('my_model.keras')`.\n",
      "  saving_api.save_model(\n",
      "WARNING:absl:At this time, the v2.11+ optimizer `tf.keras.optimizers.Adam` runs slowly on M1/M2 Macs, please use the legacy Keras optimizer instead, located at `tf.keras.optimizers.legacy.Adam`.\n",
      "WARNING:absl:There is a known slowdown when using v2.11+ Keras optimizers on M1/M2 Macs. Falling back to the legacy Keras optimizer, i.e., `tf.keras.optimizers.legacy.Adam`.\n"
     ]
    },
    {
     "name": "stdout",
     "output_type": "stream",
     "text": [
      "Node 3 - Best Parameters: {'batch_size': 32, 'epochs': 50, 'hidden_layer_1': 64, 'hidden_layer_2': 32, 'learning_rate': 0.001}\n",
      "Node 3 - Best Accuracy: 0.9354838709677419\n",
      "Node 3 - Number of anomalies detected: 4\n",
      "Model saved: Autoencoder_Model_Node_3.h5\n",
      "Processing file: /Users/zxgan/FYP_Kubernetes/Dataset/cleaned_dataset/node_node_4_dataset.csv\n",
      "Node 4 - Testing parameters: {'batch_size': 32, 'epochs': 50, 'hidden_layer_1': 64, 'hidden_layer_2': 32, 'learning_rate': 0.001}\n",
      "WARNING:tensorflow:5 out of the last 10 calls to <function Model.make_predict_function.<locals>.predict_function at 0x33a3eb240> triggered tf.function retracing. Tracing is expensive and the excessive number of tracings could be due to (1) creating @tf.function repeatedly in a loop, (2) passing tensors with different shapes, (3) passing Python objects instead of tensors. For (1), please define your @tf.function outside of the loop. For (2), @tf.function has reduce_retracing=True option that can avoid unnecessary retracing. For (3), please refer to https://www.tensorflow.org/guide/function#controlling_retracing and https://www.tensorflow.org/api_docs/python/tf/function for  more details.\n"
     ]
    },
    {
     "name": "stderr",
     "output_type": "stream",
     "text": [
      "WARNING:tensorflow:5 out of the last 10 calls to <function Model.make_predict_function.<locals>.predict_function at 0x33a3eb240> triggered tf.function retracing. Tracing is expensive and the excessive number of tracings could be due to (1) creating @tf.function repeatedly in a loop, (2) passing tensors with different shapes, (3) passing Python objects instead of tensors. For (1), please define your @tf.function outside of the loop. For (2), @tf.function has reduce_retracing=True option that can avoid unnecessary retracing. For (3), please refer to https://www.tensorflow.org/guide/function#controlling_retracing and https://www.tensorflow.org/api_docs/python/tf/function for  more details.\n"
     ]
    },
    {
     "name": "stdout",
     "output_type": "stream",
     "text": [
      "2/2 [==============================] - 0s 887us/step\n"
     ]
    },
    {
     "name": "stderr",
     "output_type": "stream",
     "text": [
      "/Library/Frameworks/Python.framework/Versions/3.11/lib/python3.11/site-packages/keras/src/engine/training.py:3000: UserWarning: You are saving your model as an HDF5 file via `model.save()`. This file format is considered legacy. We recommend using instead the native Keras format, e.g. `model.save('my_model.keras')`.\n",
      "  saving_api.save_model(\n",
      "WARNING:absl:At this time, the v2.11+ optimizer `tf.keras.optimizers.Adam` runs slowly on M1/M2 Macs, please use the legacy Keras optimizer instead, located at `tf.keras.optimizers.legacy.Adam`.\n",
      "WARNING:absl:There is a known slowdown when using v2.11+ Keras optimizers on M1/M2 Macs. Falling back to the legacy Keras optimizer, i.e., `tf.keras.optimizers.legacy.Adam`.\n"
     ]
    },
    {
     "name": "stdout",
     "output_type": "stream",
     "text": [
      "Node 4 - Best Parameters: {'batch_size': 32, 'epochs': 50, 'hidden_layer_1': 64, 'hidden_layer_2': 32, 'learning_rate': 0.001}\n",
      "Node 4 - Best Accuracy: 0.9375\n",
      "Node 4 - Number of anomalies detected: 4\n",
      "Model saved: Autoencoder_Model_Node_4.h5\n",
      "Processing file: /Users/zxgan/FYP_Kubernetes/Dataset/cleaned_dataset/node_node_5_dataset.csv\n",
      "Node 5 - Testing parameters: {'batch_size': 32, 'epochs': 50, 'hidden_layer_1': 64, 'hidden_layer_2': 32, 'learning_rate': 0.001}\n",
      "WARNING:tensorflow:6 out of the last 12 calls to <function Model.make_predict_function.<locals>.predict_function at 0x33b7bf100> triggered tf.function retracing. Tracing is expensive and the excessive number of tracings could be due to (1) creating @tf.function repeatedly in a loop, (2) passing tensors with different shapes, (3) passing Python objects instead of tensors. For (1), please define your @tf.function outside of the loop. For (2), @tf.function has reduce_retracing=True option that can avoid unnecessary retracing. For (3), please refer to https://www.tensorflow.org/guide/function#controlling_retracing and https://www.tensorflow.org/api_docs/python/tf/function for  more details.\n"
     ]
    },
    {
     "name": "stderr",
     "output_type": "stream",
     "text": [
      "WARNING:tensorflow:6 out of the last 12 calls to <function Model.make_predict_function.<locals>.predict_function at 0x33b7bf100> triggered tf.function retracing. Tracing is expensive and the excessive number of tracings could be due to (1) creating @tf.function repeatedly in a loop, (2) passing tensors with different shapes, (3) passing Python objects instead of tensors. For (1), please define your @tf.function outside of the loop. For (2), @tf.function has reduce_retracing=True option that can avoid unnecessary retracing. For (3), please refer to https://www.tensorflow.org/guide/function#controlling_retracing and https://www.tensorflow.org/api_docs/python/tf/function for  more details.\n"
     ]
    },
    {
     "name": "stdout",
     "output_type": "stream",
     "text": [
      "2/2 [==============================] - 0s 1ms/step\n"
     ]
    },
    {
     "name": "stderr",
     "output_type": "stream",
     "text": [
      "/Library/Frameworks/Python.framework/Versions/3.11/lib/python3.11/site-packages/keras/src/engine/training.py:3000: UserWarning: You are saving your model as an HDF5 file via `model.save()`. This file format is considered legacy. We recommend using instead the native Keras format, e.g. `model.save('my_model.keras')`.\n",
      "  saving_api.save_model(\n",
      "WARNING:absl:At this time, the v2.11+ optimizer `tf.keras.optimizers.Adam` runs slowly on M1/M2 Macs, please use the legacy Keras optimizer instead, located at `tf.keras.optimizers.legacy.Adam`.\n",
      "WARNING:absl:There is a known slowdown when using v2.11+ Keras optimizers on M1/M2 Macs. Falling back to the legacy Keras optimizer, i.e., `tf.keras.optimizers.legacy.Adam`.\n"
     ]
    },
    {
     "name": "stdout",
     "output_type": "stream",
     "text": [
      "Node 5 - Best Parameters: {'batch_size': 32, 'epochs': 50, 'hidden_layer_1': 64, 'hidden_layer_2': 32, 'learning_rate': 0.001}\n",
      "Node 5 - Best Accuracy: 0.9491525423728814\n",
      "Node 5 - Number of anomalies detected: 3\n",
      "Model saved: Autoencoder_Model_Node_5.h5\n",
      "Processing file: /Users/zxgan/FYP_Kubernetes/Dataset/cleaned_dataset/node_node_6_dataset.csv\n",
      "Node 6 - Testing parameters: {'batch_size': 32, 'epochs': 50, 'hidden_layer_1': 64, 'hidden_layer_2': 32, 'learning_rate': 0.001}\n",
      "2/2 [==============================] - 0s 770us/step\n"
     ]
    },
    {
     "name": "stderr",
     "output_type": "stream",
     "text": [
      "/Library/Frameworks/Python.framework/Versions/3.11/lib/python3.11/site-packages/keras/src/engine/training.py:3000: UserWarning: You are saving your model as an HDF5 file via `model.save()`. This file format is considered legacy. We recommend using instead the native Keras format, e.g. `model.save('my_model.keras')`.\n",
      "  saving_api.save_model(\n",
      "WARNING:absl:At this time, the v2.11+ optimizer `tf.keras.optimizers.Adam` runs slowly on M1/M2 Macs, please use the legacy Keras optimizer instead, located at `tf.keras.optimizers.legacy.Adam`.\n",
      "WARNING:absl:There is a known slowdown when using v2.11+ Keras optimizers on M1/M2 Macs. Falling back to the legacy Keras optimizer, i.e., `tf.keras.optimizers.legacy.Adam`.\n"
     ]
    },
    {
     "name": "stdout",
     "output_type": "stream",
     "text": [
      "Node 6 - Best Parameters: {'batch_size': 32, 'epochs': 50, 'hidden_layer_1': 64, 'hidden_layer_2': 32, 'learning_rate': 0.001}\n",
      "Node 6 - Best Accuracy: 0.9473684210526315\n",
      "Node 6 - Number of anomalies detected: 3\n",
      "Model saved: Autoencoder_Model_Node_6.h5\n",
      "Processing file: /Users/zxgan/FYP_Kubernetes/Dataset/cleaned_dataset/node_node_7_dataset.csv\n",
      "Node 7 - Testing parameters: {'batch_size': 32, 'epochs': 50, 'hidden_layer_1': 64, 'hidden_layer_2': 32, 'learning_rate': 0.001}\n",
      "2/2 [==============================] - 0s 913us/step\n"
     ]
    },
    {
     "name": "stderr",
     "output_type": "stream",
     "text": [
      "/Library/Frameworks/Python.framework/Versions/3.11/lib/python3.11/site-packages/keras/src/engine/training.py:3000: UserWarning: You are saving your model as an HDF5 file via `model.save()`. This file format is considered legacy. We recommend using instead the native Keras format, e.g. `model.save('my_model.keras')`.\n",
      "  saving_api.save_model(\n",
      "WARNING:absl:At this time, the v2.11+ optimizer `tf.keras.optimizers.Adam` runs slowly on M1/M2 Macs, please use the legacy Keras optimizer instead, located at `tf.keras.optimizers.legacy.Adam`.\n",
      "WARNING:absl:There is a known slowdown when using v2.11+ Keras optimizers on M1/M2 Macs. Falling back to the legacy Keras optimizer, i.e., `tf.keras.optimizers.legacy.Adam`.\n"
     ]
    },
    {
     "name": "stdout",
     "output_type": "stream",
     "text": [
      "Node 7 - Best Parameters: {'batch_size': 32, 'epochs': 50, 'hidden_layer_1': 64, 'hidden_layer_2': 32, 'learning_rate': 0.001}\n",
      "Node 7 - Best Accuracy: 0.9508196721311475\n",
      "Node 7 - Number of anomalies detected: 3\n",
      "Model saved: Autoencoder_Model_Node_7.h5\n",
      "Processing file: /Users/zxgan/FYP_Kubernetes/Dataset/cleaned_dataset/node_node_8_dataset.csv\n",
      "Node 8 - Testing parameters: {'batch_size': 32, 'epochs': 50, 'hidden_layer_1': 64, 'hidden_layer_2': 32, 'learning_rate': 0.001}\n",
      "2/2 [==============================] - 0s 816us/step\n"
     ]
    },
    {
     "name": "stderr",
     "output_type": "stream",
     "text": [
      "/Library/Frameworks/Python.framework/Versions/3.11/lib/python3.11/site-packages/keras/src/engine/training.py:3000: UserWarning: You are saving your model as an HDF5 file via `model.save()`. This file format is considered legacy. We recommend using instead the native Keras format, e.g. `model.save('my_model.keras')`.\n",
      "  saving_api.save_model(\n",
      "WARNING:absl:At this time, the v2.11+ optimizer `tf.keras.optimizers.Adam` runs slowly on M1/M2 Macs, please use the legacy Keras optimizer instead, located at `tf.keras.optimizers.legacy.Adam`.\n",
      "WARNING:absl:There is a known slowdown when using v2.11+ Keras optimizers on M1/M2 Macs. Falling back to the legacy Keras optimizer, i.e., `tf.keras.optimizers.legacy.Adam`.\n"
     ]
    },
    {
     "name": "stdout",
     "output_type": "stream",
     "text": [
      "Node 8 - Best Parameters: {'batch_size': 32, 'epochs': 50, 'hidden_layer_1': 64, 'hidden_layer_2': 32, 'learning_rate': 0.001}\n",
      "Node 8 - Best Accuracy: 0.9473684210526315\n",
      "Node 8 - Number of anomalies detected: 3\n",
      "Model saved: Autoencoder_Model_Node_8.h5\n",
      "Processing file: /Users/zxgan/FYP_Kubernetes/Dataset/cleaned_dataset/node_node_9_dataset.csv\n",
      "Node 9 - Testing parameters: {'batch_size': 32, 'epochs': 50, 'hidden_layer_1': 64, 'hidden_layer_2': 32, 'learning_rate': 0.001}\n",
      "3/3 [==============================] - 0s 746us/step\n"
     ]
    },
    {
     "name": "stderr",
     "output_type": "stream",
     "text": [
      "/Library/Frameworks/Python.framework/Versions/3.11/lib/python3.11/site-packages/keras/src/engine/training.py:3000: UserWarning: You are saving your model as an HDF5 file via `model.save()`. This file format is considered legacy. We recommend using instead the native Keras format, e.g. `model.save('my_model.keras')`.\n",
      "  saving_api.save_model(\n",
      "WARNING:absl:At this time, the v2.11+ optimizer `tf.keras.optimizers.Adam` runs slowly on M1/M2 Macs, please use the legacy Keras optimizer instead, located at `tf.keras.optimizers.legacy.Adam`.\n",
      "WARNING:absl:There is a known slowdown when using v2.11+ Keras optimizers on M1/M2 Macs. Falling back to the legacy Keras optimizer, i.e., `tf.keras.optimizers.legacy.Adam`.\n"
     ]
    },
    {
     "name": "stdout",
     "output_type": "stream",
     "text": [
      "Node 9 - Best Parameters: {'batch_size': 32, 'epochs': 50, 'hidden_layer_1': 64, 'hidden_layer_2': 32, 'learning_rate': 0.001}\n",
      "Node 9 - Best Accuracy: 0.9384615384615385\n",
      "Node 9 - Number of anomalies detected: 4\n",
      "Model saved: Autoencoder_Model_Node_9.h5\n",
      "Processing file: /Users/zxgan/FYP_Kubernetes/Dataset/cleaned_dataset/node_node_10_dataset.csv\n",
      "Node 10 - Testing parameters: {'batch_size': 32, 'epochs': 50, 'hidden_layer_1': 64, 'hidden_layer_2': 32, 'learning_rate': 0.001}\n",
      "2/2 [==============================] - 0s 1ms/step\n"
     ]
    },
    {
     "name": "stderr",
     "output_type": "stream",
     "text": [
      "/Library/Frameworks/Python.framework/Versions/3.11/lib/python3.11/site-packages/keras/src/engine/training.py:3000: UserWarning: You are saving your model as an HDF5 file via `model.save()`. This file format is considered legacy. We recommend using instead the native Keras format, e.g. `model.save('my_model.keras')`.\n",
      "  saving_api.save_model(\n",
      "WARNING:absl:At this time, the v2.11+ optimizer `tf.keras.optimizers.Adam` runs slowly on M1/M2 Macs, please use the legacy Keras optimizer instead, located at `tf.keras.optimizers.legacy.Adam`.\n",
      "WARNING:absl:There is a known slowdown when using v2.11+ Keras optimizers on M1/M2 Macs. Falling back to the legacy Keras optimizer, i.e., `tf.keras.optimizers.legacy.Adam`.\n"
     ]
    },
    {
     "name": "stdout",
     "output_type": "stream",
     "text": [
      "Node 10 - Best Parameters: {'batch_size': 32, 'epochs': 50, 'hidden_layer_1': 64, 'hidden_layer_2': 32, 'learning_rate': 0.001}\n",
      "Node 10 - Best Accuracy: 0.9365079365079365\n",
      "Node 10 - Number of anomalies detected: 4\n",
      "Model saved: Autoencoder_Model_Node_10.h5\n",
      "Processing file: /Users/zxgan/FYP_Kubernetes/Dataset/cleaned_dataset/node_node_11_dataset.csv\n",
      "Node 11 - Testing parameters: {'batch_size': 32, 'epochs': 50, 'hidden_layer_1': 64, 'hidden_layer_2': 32, 'learning_rate': 0.001}\n",
      "2/2 [==============================] - 0s 710us/step\n"
     ]
    },
    {
     "name": "stderr",
     "output_type": "stream",
     "text": [
      "/Library/Frameworks/Python.framework/Versions/3.11/lib/python3.11/site-packages/keras/src/engine/training.py:3000: UserWarning: You are saving your model as an HDF5 file via `model.save()`. This file format is considered legacy. We recommend using instead the native Keras format, e.g. `model.save('my_model.keras')`.\n",
      "  saving_api.save_model(\n",
      "WARNING:absl:At this time, the v2.11+ optimizer `tf.keras.optimizers.Adam` runs slowly on M1/M2 Macs, please use the legacy Keras optimizer instead, located at `tf.keras.optimizers.legacy.Adam`.\n",
      "WARNING:absl:There is a known slowdown when using v2.11+ Keras optimizers on M1/M2 Macs. Falling back to the legacy Keras optimizer, i.e., `tf.keras.optimizers.legacy.Adam`.\n"
     ]
    },
    {
     "name": "stdout",
     "output_type": "stream",
     "text": [
      "Node 11 - Best Parameters: {'batch_size': 32, 'epochs': 50, 'hidden_layer_1': 64, 'hidden_layer_2': 32, 'learning_rate': 0.001}\n",
      "Node 11 - Best Accuracy: 0.9365079365079365\n",
      "Node 11 - Number of anomalies detected: 4\n",
      "Model saved: Autoencoder_Model_Node_11.h5\n",
      "Processing file: /Users/zxgan/FYP_Kubernetes/Dataset/cleaned_dataset/node_node_12_dataset.csv\n",
      "Node 12 - Testing parameters: {'batch_size': 32, 'epochs': 50, 'hidden_layer_1': 64, 'hidden_layer_2': 32, 'learning_rate': 0.001}\n",
      "3/3 [==============================] - 0s 576us/step\n"
     ]
    },
    {
     "name": "stderr",
     "output_type": "stream",
     "text": [
      "/Library/Frameworks/Python.framework/Versions/3.11/lib/python3.11/site-packages/keras/src/engine/training.py:3000: UserWarning: You are saving your model as an HDF5 file via `model.save()`. This file format is considered legacy. We recommend using instead the native Keras format, e.g. `model.save('my_model.keras')`.\n",
      "  saving_api.save_model(\n",
      "WARNING:absl:At this time, the v2.11+ optimizer `tf.keras.optimizers.Adam` runs slowly on M1/M2 Macs, please use the legacy Keras optimizer instead, located at `tf.keras.optimizers.legacy.Adam`.\n",
      "WARNING:absl:There is a known slowdown when using v2.11+ Keras optimizers on M1/M2 Macs. Falling back to the legacy Keras optimizer, i.e., `tf.keras.optimizers.legacy.Adam`.\n"
     ]
    },
    {
     "name": "stdout",
     "output_type": "stream",
     "text": [
      "Node 12 - Best Parameters: {'batch_size': 32, 'epochs': 50, 'hidden_layer_1': 64, 'hidden_layer_2': 32, 'learning_rate': 0.001}\n",
      "Node 12 - Best Accuracy: 0.9420289855072463\n",
      "Node 12 - Number of anomalies detected: 4\n",
      "Model saved: Autoencoder_Model_Node_12.h5\n",
      "Processing file: /Users/zxgan/FYP_Kubernetes/Dataset/cleaned_dataset/node_node_13_dataset.csv\n",
      "Node 13 - Testing parameters: {'batch_size': 32, 'epochs': 50, 'hidden_layer_1': 64, 'hidden_layer_2': 32, 'learning_rate': 0.001}\n",
      "3/3 [==============================] - 0s 583us/step\n"
     ]
    },
    {
     "name": "stderr",
     "output_type": "stream",
     "text": [
      "/Library/Frameworks/Python.framework/Versions/3.11/lib/python3.11/site-packages/keras/src/engine/training.py:3000: UserWarning: You are saving your model as an HDF5 file via `model.save()`. This file format is considered legacy. We recommend using instead the native Keras format, e.g. `model.save('my_model.keras')`.\n",
      "  saving_api.save_model(\n",
      "WARNING:absl:At this time, the v2.11+ optimizer `tf.keras.optimizers.Adam` runs slowly on M1/M2 Macs, please use the legacy Keras optimizer instead, located at `tf.keras.optimizers.legacy.Adam`.\n",
      "WARNING:absl:There is a known slowdown when using v2.11+ Keras optimizers on M1/M2 Macs. Falling back to the legacy Keras optimizer, i.e., `tf.keras.optimizers.legacy.Adam`.\n"
     ]
    },
    {
     "name": "stdout",
     "output_type": "stream",
     "text": [
      "Node 13 - Best Parameters: {'batch_size': 32, 'epochs': 50, 'hidden_layer_1': 64, 'hidden_layer_2': 32, 'learning_rate': 0.001}\n",
      "Node 13 - Best Accuracy: 0.9393939393939394\n",
      "Node 13 - Number of anomalies detected: 4\n",
      "Model saved: Autoencoder_Model_Node_13.h5\n",
      "Processing file: /Users/zxgan/FYP_Kubernetes/Dataset/cleaned_dataset/node_node_14_dataset.csv\n",
      "Node 14 - Testing parameters: {'batch_size': 32, 'epochs': 50, 'hidden_layer_1': 64, 'hidden_layer_2': 32, 'learning_rate': 0.001}\n",
      "2/2 [==============================] - 0s 812us/step\n"
     ]
    },
    {
     "name": "stderr",
     "output_type": "stream",
     "text": [
      "/Library/Frameworks/Python.framework/Versions/3.11/lib/python3.11/site-packages/keras/src/engine/training.py:3000: UserWarning: You are saving your model as an HDF5 file via `model.save()`. This file format is considered legacy. We recommend using instead the native Keras format, e.g. `model.save('my_model.keras')`.\n",
      "  saving_api.save_model(\n",
      "WARNING:absl:At this time, the v2.11+ optimizer `tf.keras.optimizers.Adam` runs slowly on M1/M2 Macs, please use the legacy Keras optimizer instead, located at `tf.keras.optimizers.legacy.Adam`.\n",
      "WARNING:absl:There is a known slowdown when using v2.11+ Keras optimizers on M1/M2 Macs. Falling back to the legacy Keras optimizer, i.e., `tf.keras.optimizers.legacy.Adam`.\n"
     ]
    },
    {
     "name": "stdout",
     "output_type": "stream",
     "text": [
      "Node 14 - Best Parameters: {'batch_size': 32, 'epochs': 50, 'hidden_layer_1': 64, 'hidden_layer_2': 32, 'learning_rate': 0.001}\n",
      "Node 14 - Best Accuracy: 0.95\n",
      "Node 14 - Number of anomalies detected: 3\n",
      "Model saved: Autoencoder_Model_Node_14.h5\n",
      "Processing file: /Users/zxgan/FYP_Kubernetes/Dataset/cleaned_dataset/node_node_15_dataset.csv\n",
      "Node 15 - Testing parameters: {'batch_size': 32, 'epochs': 50, 'hidden_layer_1': 64, 'hidden_layer_2': 32, 'learning_rate': 0.001}\n",
      "2/2 [==============================] - 0s 954us/step\n"
     ]
    },
    {
     "name": "stderr",
     "output_type": "stream",
     "text": [
      "/Library/Frameworks/Python.framework/Versions/3.11/lib/python3.11/site-packages/keras/src/engine/training.py:3000: UserWarning: You are saving your model as an HDF5 file via `model.save()`. This file format is considered legacy. We recommend using instead the native Keras format, e.g. `model.save('my_model.keras')`.\n",
      "  saving_api.save_model(\n",
      "WARNING:absl:At this time, the v2.11+ optimizer `tf.keras.optimizers.Adam` runs slowly on M1/M2 Macs, please use the legacy Keras optimizer instead, located at `tf.keras.optimizers.legacy.Adam`.\n",
      "WARNING:absl:There is a known slowdown when using v2.11+ Keras optimizers on M1/M2 Macs. Falling back to the legacy Keras optimizer, i.e., `tf.keras.optimizers.legacy.Adam`.\n"
     ]
    },
    {
     "name": "stdout",
     "output_type": "stream",
     "text": [
      "Node 15 - Best Parameters: {'batch_size': 32, 'epochs': 50, 'hidden_layer_1': 64, 'hidden_layer_2': 32, 'learning_rate': 0.001}\n",
      "Node 15 - Best Accuracy: 0.9444444444444444\n",
      "Node 15 - Number of anomalies detected: 3\n",
      "Model saved: Autoencoder_Model_Node_15.h5\n",
      "Processing file: /Users/zxgan/FYP_Kubernetes/Dataset/cleaned_dataset/node_node_16_dataset.csv\n",
      "Node 16 - Testing parameters: {'batch_size': 32, 'epochs': 50, 'hidden_layer_1': 64, 'hidden_layer_2': 32, 'learning_rate': 0.001}\n",
      "2/2 [==============================] - 0s 997us/step\n"
     ]
    },
    {
     "name": "stderr",
     "output_type": "stream",
     "text": [
      "/Library/Frameworks/Python.framework/Versions/3.11/lib/python3.11/site-packages/keras/src/engine/training.py:3000: UserWarning: You are saving your model as an HDF5 file via `model.save()`. This file format is considered legacy. We recommend using instead the native Keras format, e.g. `model.save('my_model.keras')`.\n",
      "  saving_api.save_model(\n",
      "WARNING:absl:At this time, the v2.11+ optimizer `tf.keras.optimizers.Adam` runs slowly on M1/M2 Macs, please use the legacy Keras optimizer instead, located at `tf.keras.optimizers.legacy.Adam`.\n",
      "WARNING:absl:There is a known slowdown when using v2.11+ Keras optimizers on M1/M2 Macs. Falling back to the legacy Keras optimizer, i.e., `tf.keras.optimizers.legacy.Adam`.\n"
     ]
    },
    {
     "name": "stdout",
     "output_type": "stream",
     "text": [
      "Node 16 - Best Parameters: {'batch_size': 32, 'epochs': 50, 'hidden_layer_1': 64, 'hidden_layer_2': 32, 'learning_rate': 0.001}\n",
      "Node 16 - Best Accuracy: 0.9464285714285714\n",
      "Node 16 - Number of anomalies detected: 3\n",
      "Model saved: Autoencoder_Model_Node_16.h5\n",
      "Processing file: /Users/zxgan/FYP_Kubernetes/Dataset/cleaned_dataset/node_node_17_dataset.csv\n",
      "Node 17 - Testing parameters: {'batch_size': 32, 'epochs': 50, 'hidden_layer_1': 64, 'hidden_layer_2': 32, 'learning_rate': 0.001}\n",
      "2/2 [==============================] - 0s 861us/step\n"
     ]
    },
    {
     "name": "stderr",
     "output_type": "stream",
     "text": [
      "/Library/Frameworks/Python.framework/Versions/3.11/lib/python3.11/site-packages/keras/src/engine/training.py:3000: UserWarning: You are saving your model as an HDF5 file via `model.save()`. This file format is considered legacy. We recommend using instead the native Keras format, e.g. `model.save('my_model.keras')`.\n",
      "  saving_api.save_model(\n",
      "WARNING:absl:At this time, the v2.11+ optimizer `tf.keras.optimizers.Adam` runs slowly on M1/M2 Macs, please use the legacy Keras optimizer instead, located at `tf.keras.optimizers.legacy.Adam`.\n",
      "WARNING:absl:There is a known slowdown when using v2.11+ Keras optimizers on M1/M2 Macs. Falling back to the legacy Keras optimizer, i.e., `tf.keras.optimizers.legacy.Adam`.\n"
     ]
    },
    {
     "name": "stdout",
     "output_type": "stream",
     "text": [
      "Node 17 - Best Parameters: {'batch_size': 32, 'epochs': 50, 'hidden_layer_1': 64, 'hidden_layer_2': 32, 'learning_rate': 0.001}\n",
      "Node 17 - Best Accuracy: 0.9508196721311475\n",
      "Node 17 - Number of anomalies detected: 3\n",
      "Model saved: Autoencoder_Model_Node_17.h5\n",
      "Processing file: /Users/zxgan/FYP_Kubernetes/Dataset/cleaned_dataset/node_node_18_dataset.csv\n",
      "Node 18 - Testing parameters: {'batch_size': 32, 'epochs': 50, 'hidden_layer_1': 64, 'hidden_layer_2': 32, 'learning_rate': 0.001}\n",
      "3/3 [==============================] - 0s 551us/step\n"
     ]
    },
    {
     "name": "stderr",
     "output_type": "stream",
     "text": [
      "/Library/Frameworks/Python.framework/Versions/3.11/lib/python3.11/site-packages/keras/src/engine/training.py:3000: UserWarning: You are saving your model as an HDF5 file via `model.save()`. This file format is considered legacy. We recommend using instead the native Keras format, e.g. `model.save('my_model.keras')`.\n",
      "  saving_api.save_model(\n",
      "WARNING:absl:At this time, the v2.11+ optimizer `tf.keras.optimizers.Adam` runs slowly on M1/M2 Macs, please use the legacy Keras optimizer instead, located at `tf.keras.optimizers.legacy.Adam`.\n",
      "WARNING:absl:There is a known slowdown when using v2.11+ Keras optimizers on M1/M2 Macs. Falling back to the legacy Keras optimizer, i.e., `tf.keras.optimizers.legacy.Adam`.\n"
     ]
    },
    {
     "name": "stdout",
     "output_type": "stream",
     "text": [
      "Node 18 - Best Parameters: {'batch_size': 32, 'epochs': 50, 'hidden_layer_1': 64, 'hidden_layer_2': 32, 'learning_rate': 0.001}\n",
      "Node 18 - Best Accuracy: 0.9393939393939394\n",
      "Node 18 - Number of anomalies detected: 4\n",
      "Model saved: Autoencoder_Model_Node_18.h5\n",
      "Processing file: /Users/zxgan/FYP_Kubernetes/Dataset/cleaned_dataset/node_node_19_dataset.csv\n",
      "Node 19 - Testing parameters: {'batch_size': 32, 'epochs': 50, 'hidden_layer_1': 64, 'hidden_layer_2': 32, 'learning_rate': 0.001}\n",
      "2/2 [==============================] - 0s 967us/step\n"
     ]
    },
    {
     "name": "stderr",
     "output_type": "stream",
     "text": [
      "/Library/Frameworks/Python.framework/Versions/3.11/lib/python3.11/site-packages/keras/src/engine/training.py:3000: UserWarning: You are saving your model as an HDF5 file via `model.save()`. This file format is considered legacy. We recommend using instead the native Keras format, e.g. `model.save('my_model.keras')`.\n",
      "  saving_api.save_model(\n",
      "WARNING:absl:At this time, the v2.11+ optimizer `tf.keras.optimizers.Adam` runs slowly on M1/M2 Macs, please use the legacy Keras optimizer instead, located at `tf.keras.optimizers.legacy.Adam`.\n",
      "WARNING:absl:There is a known slowdown when using v2.11+ Keras optimizers on M1/M2 Macs. Falling back to the legacy Keras optimizer, i.e., `tf.keras.optimizers.legacy.Adam`.\n"
     ]
    },
    {
     "name": "stdout",
     "output_type": "stream",
     "text": [
      "Node 19 - Best Parameters: {'batch_size': 32, 'epochs': 50, 'hidden_layer_1': 64, 'hidden_layer_2': 32, 'learning_rate': 0.001}\n",
      "Node 19 - Best Accuracy: 0.9508196721311475\n",
      "Node 19 - Number of anomalies detected: 3\n",
      "Model saved: Autoencoder_Model_Node_19.h5\n",
      "Processing file: /Users/zxgan/FYP_Kubernetes/Dataset/cleaned_dataset/node_node_20_dataset.csv\n",
      "Node 20 - Testing parameters: {'batch_size': 32, 'epochs': 50, 'hidden_layer_1': 64, 'hidden_layer_2': 32, 'learning_rate': 0.001}\n",
      "2/2 [==============================] - 0s 847us/step\n"
     ]
    },
    {
     "name": "stderr",
     "output_type": "stream",
     "text": [
      "/Library/Frameworks/Python.framework/Versions/3.11/lib/python3.11/site-packages/keras/src/engine/training.py:3000: UserWarning: You are saving your model as an HDF5 file via `model.save()`. This file format is considered legacy. We recommend using instead the native Keras format, e.g. `model.save('my_model.keras')`.\n",
      "  saving_api.save_model(\n",
      "WARNING:absl:At this time, the v2.11+ optimizer `tf.keras.optimizers.Adam` runs slowly on M1/M2 Macs, please use the legacy Keras optimizer instead, located at `tf.keras.optimizers.legacy.Adam`.\n",
      "WARNING:absl:There is a known slowdown when using v2.11+ Keras optimizers on M1/M2 Macs. Falling back to the legacy Keras optimizer, i.e., `tf.keras.optimizers.legacy.Adam`.\n"
     ]
    },
    {
     "name": "stdout",
     "output_type": "stream",
     "text": [
      "Node 20 - Best Parameters: {'batch_size': 32, 'epochs': 50, 'hidden_layer_1': 64, 'hidden_layer_2': 32, 'learning_rate': 0.001}\n",
      "Node 20 - Best Accuracy: 0.9491525423728814\n",
      "Node 20 - Number of anomalies detected: 3\n",
      "Model saved: Autoencoder_Model_Node_20.h5\n",
      "Processing file: /Users/zxgan/FYP_Kubernetes/Dataset/cleaned_dataset/node_node_21_dataset.csv\n",
      "Node 21 - Testing parameters: {'batch_size': 32, 'epochs': 50, 'hidden_layer_1': 64, 'hidden_layer_2': 32, 'learning_rate': 0.001}\n",
      "2/2 [==============================] - 0s 777us/step\n"
     ]
    },
    {
     "name": "stderr",
     "output_type": "stream",
     "text": [
      "/Library/Frameworks/Python.framework/Versions/3.11/lib/python3.11/site-packages/keras/src/engine/training.py:3000: UserWarning: You are saving your model as an HDF5 file via `model.save()`. This file format is considered legacy. We recommend using instead the native Keras format, e.g. `model.save('my_model.keras')`.\n",
      "  saving_api.save_model(\n",
      "WARNING:absl:At this time, the v2.11+ optimizer `tf.keras.optimizers.Adam` runs slowly on M1/M2 Macs, please use the legacy Keras optimizer instead, located at `tf.keras.optimizers.legacy.Adam`.\n",
      "WARNING:absl:There is a known slowdown when using v2.11+ Keras optimizers on M1/M2 Macs. Falling back to the legacy Keras optimizer, i.e., `tf.keras.optimizers.legacy.Adam`.\n"
     ]
    },
    {
     "name": "stdout",
     "output_type": "stream",
     "text": [
      "Node 21 - Best Parameters: {'batch_size': 32, 'epochs': 50, 'hidden_layer_1': 64, 'hidden_layer_2': 32, 'learning_rate': 0.001}\n",
      "Node 21 - Best Accuracy: 0.9491525423728814\n",
      "Node 21 - Number of anomalies detected: 3\n",
      "Model saved: Autoencoder_Model_Node_21.h5\n",
      "Processing file: /Users/zxgan/FYP_Kubernetes/Dataset/cleaned_dataset/node_node_22_dataset.csv\n",
      "Node 22 - Testing parameters: {'batch_size': 32, 'epochs': 50, 'hidden_layer_1': 64, 'hidden_layer_2': 32, 'learning_rate': 0.001}\n",
      "2/2 [==============================] - 0s 895us/step\n"
     ]
    },
    {
     "name": "stderr",
     "output_type": "stream",
     "text": [
      "/Library/Frameworks/Python.framework/Versions/3.11/lib/python3.11/site-packages/keras/src/engine/training.py:3000: UserWarning: You are saving your model as an HDF5 file via `model.save()`. This file format is considered legacy. We recommend using instead the native Keras format, e.g. `model.save('my_model.keras')`.\n",
      "  saving_api.save_model(\n",
      "WARNING:absl:At this time, the v2.11+ optimizer `tf.keras.optimizers.Adam` runs slowly on M1/M2 Macs, please use the legacy Keras optimizer instead, located at `tf.keras.optimizers.legacy.Adam`.\n",
      "WARNING:absl:There is a known slowdown when using v2.11+ Keras optimizers on M1/M2 Macs. Falling back to the legacy Keras optimizer, i.e., `tf.keras.optimizers.legacy.Adam`.\n"
     ]
    },
    {
     "name": "stdout",
     "output_type": "stream",
     "text": [
      "Node 22 - Best Parameters: {'batch_size': 32, 'epochs': 50, 'hidden_layer_1': 64, 'hidden_layer_2': 32, 'learning_rate': 0.001}\n",
      "Node 22 - Best Accuracy: 0.9473684210526315\n",
      "Node 22 - Number of anomalies detected: 3\n",
      "Model saved: Autoencoder_Model_Node_22.h5\n",
      "Processing file: /Users/zxgan/FYP_Kubernetes/Dataset/cleaned_dataset/node_node_23_dataset.csv\n",
      "Node 23 - Testing parameters: {'batch_size': 32, 'epochs': 50, 'hidden_layer_1': 64, 'hidden_layer_2': 32, 'learning_rate': 0.001}\n",
      "2/2 [==============================] - 0s 815us/step\n"
     ]
    },
    {
     "name": "stderr",
     "output_type": "stream",
     "text": [
      "/Library/Frameworks/Python.framework/Versions/3.11/lib/python3.11/site-packages/keras/src/engine/training.py:3000: UserWarning: You are saving your model as an HDF5 file via `model.save()`. This file format is considered legacy. We recommend using instead the native Keras format, e.g. `model.save('my_model.keras')`.\n",
      "  saving_api.save_model(\n",
      "WARNING:absl:At this time, the v2.11+ optimizer `tf.keras.optimizers.Adam` runs slowly on M1/M2 Macs, please use the legacy Keras optimizer instead, located at `tf.keras.optimizers.legacy.Adam`.\n",
      "WARNING:absl:There is a known slowdown when using v2.11+ Keras optimizers on M1/M2 Macs. Falling back to the legacy Keras optimizer, i.e., `tf.keras.optimizers.legacy.Adam`.\n"
     ]
    },
    {
     "name": "stdout",
     "output_type": "stream",
     "text": [
      "Node 23 - Best Parameters: {'batch_size': 32, 'epochs': 50, 'hidden_layer_1': 64, 'hidden_layer_2': 32, 'learning_rate': 0.001}\n",
      "Node 23 - Best Accuracy: 0.9491525423728814\n",
      "Node 23 - Number of anomalies detected: 3\n",
      "Model saved: Autoencoder_Model_Node_23.h5\n",
      "Processing file: /Users/zxgan/FYP_Kubernetes/Dataset/cleaned_dataset/node_node_24_dataset.csv\n",
      "Node 24 - Testing parameters: {'batch_size': 32, 'epochs': 50, 'hidden_layer_1': 64, 'hidden_layer_2': 32, 'learning_rate': 0.001}\n",
      "2/2 [==============================] - 0s 852us/step\n"
     ]
    },
    {
     "name": "stderr",
     "output_type": "stream",
     "text": [
      "/Library/Frameworks/Python.framework/Versions/3.11/lib/python3.11/site-packages/keras/src/engine/training.py:3000: UserWarning: You are saving your model as an HDF5 file via `model.save()`. This file format is considered legacy. We recommend using instead the native Keras format, e.g. `model.save('my_model.keras')`.\n",
      "  saving_api.save_model(\n",
      "WARNING:absl:At this time, the v2.11+ optimizer `tf.keras.optimizers.Adam` runs slowly on M1/M2 Macs, please use the legacy Keras optimizer instead, located at `tf.keras.optimizers.legacy.Adam`.\n",
      "WARNING:absl:There is a known slowdown when using v2.11+ Keras optimizers on M1/M2 Macs. Falling back to the legacy Keras optimizer, i.e., `tf.keras.optimizers.legacy.Adam`.\n"
     ]
    },
    {
     "name": "stdout",
     "output_type": "stream",
     "text": [
      "Node 24 - Best Parameters: {'batch_size': 32, 'epochs': 50, 'hidden_layer_1': 64, 'hidden_layer_2': 32, 'learning_rate': 0.001}\n",
      "Node 24 - Best Accuracy: 0.9454545454545454\n",
      "Node 24 - Number of anomalies detected: 3\n",
      "Model saved: Autoencoder_Model_Node_24.h5\n",
      "Processing file: /Users/zxgan/FYP_Kubernetes/Dataset/cleaned_dataset/node_node_25_dataset.csv\n",
      "Node 25 - Testing parameters: {'batch_size': 32, 'epochs': 50, 'hidden_layer_1': 64, 'hidden_layer_2': 32, 'learning_rate': 0.001}\n",
      "2/2 [==============================] - 0s 1ms/step\n"
     ]
    },
    {
     "name": "stderr",
     "output_type": "stream",
     "text": [
      "/Library/Frameworks/Python.framework/Versions/3.11/lib/python3.11/site-packages/keras/src/engine/training.py:3000: UserWarning: You are saving your model as an HDF5 file via `model.save()`. This file format is considered legacy. We recommend using instead the native Keras format, e.g. `model.save('my_model.keras')`.\n",
      "  saving_api.save_model(\n",
      "WARNING:absl:At this time, the v2.11+ optimizer `tf.keras.optimizers.Adam` runs slowly on M1/M2 Macs, please use the legacy Keras optimizer instead, located at `tf.keras.optimizers.legacy.Adam`.\n",
      "WARNING:absl:There is a known slowdown when using v2.11+ Keras optimizers on M1/M2 Macs. Falling back to the legacy Keras optimizer, i.e., `tf.keras.optimizers.legacy.Adam`.\n"
     ]
    },
    {
     "name": "stdout",
     "output_type": "stream",
     "text": [
      "Node 25 - Best Parameters: {'batch_size': 32, 'epochs': 50, 'hidden_layer_1': 64, 'hidden_layer_2': 32, 'learning_rate': 0.001}\n",
      "Node 25 - Best Accuracy: 0.9473684210526315\n",
      "Node 25 - Number of anomalies detected: 3\n",
      "Model saved: Autoencoder_Model_Node_25.h5\n",
      "Processing file: /Users/zxgan/FYP_Kubernetes/Dataset/cleaned_dataset/node_node_26_dataset.csv\n",
      "Node 26 - Testing parameters: {'batch_size': 32, 'epochs': 50, 'hidden_layer_1': 64, 'hidden_layer_2': 32, 'learning_rate': 0.001}\n",
      "2/2 [==============================] - 0s 917us/step\n"
     ]
    },
    {
     "name": "stderr",
     "output_type": "stream",
     "text": [
      "/Library/Frameworks/Python.framework/Versions/3.11/lib/python3.11/site-packages/keras/src/engine/training.py:3000: UserWarning: You are saving your model as an HDF5 file via `model.save()`. This file format is considered legacy. We recommend using instead the native Keras format, e.g. `model.save('my_model.keras')`.\n",
      "  saving_api.save_model(\n",
      "WARNING:absl:At this time, the v2.11+ optimizer `tf.keras.optimizers.Adam` runs slowly on M1/M2 Macs, please use the legacy Keras optimizer instead, located at `tf.keras.optimizers.legacy.Adam`.\n",
      "WARNING:absl:There is a known slowdown when using v2.11+ Keras optimizers on M1/M2 Macs. Falling back to the legacy Keras optimizer, i.e., `tf.keras.optimizers.legacy.Adam`.\n"
     ]
    },
    {
     "name": "stdout",
     "output_type": "stream",
     "text": [
      "Node 26 - Best Parameters: {'batch_size': 32, 'epochs': 50, 'hidden_layer_1': 64, 'hidden_layer_2': 32, 'learning_rate': 0.001}\n",
      "Node 26 - Best Accuracy: 0.9444444444444444\n",
      "Node 26 - Number of anomalies detected: 3\n",
      "Model saved: Autoencoder_Model_Node_26.h5\n",
      "Processing file: /Users/zxgan/FYP_Kubernetes/Dataset/cleaned_dataset/node_node_27_dataset.csv\n",
      "Node 27 - Testing parameters: {'batch_size': 32, 'epochs': 50, 'hidden_layer_1': 64, 'hidden_layer_2': 32, 'learning_rate': 0.001}\n",
      "2/2 [==============================] - 0s 819us/step\n"
     ]
    },
    {
     "name": "stderr",
     "output_type": "stream",
     "text": [
      "/Library/Frameworks/Python.framework/Versions/3.11/lib/python3.11/site-packages/keras/src/engine/training.py:3000: UserWarning: You are saving your model as an HDF5 file via `model.save()`. This file format is considered legacy. We recommend using instead the native Keras format, e.g. `model.save('my_model.keras')`.\n",
      "  saving_api.save_model(\n",
      "WARNING:absl:At this time, the v2.11+ optimizer `tf.keras.optimizers.Adam` runs slowly on M1/M2 Macs, please use the legacy Keras optimizer instead, located at `tf.keras.optimizers.legacy.Adam`.\n",
      "WARNING:absl:There is a known slowdown when using v2.11+ Keras optimizers on M1/M2 Macs. Falling back to the legacy Keras optimizer, i.e., `tf.keras.optimizers.legacy.Adam`.\n"
     ]
    },
    {
     "name": "stdout",
     "output_type": "stream",
     "text": [
      "Node 27 - Best Parameters: {'batch_size': 32, 'epochs': 50, 'hidden_layer_1': 64, 'hidden_layer_2': 32, 'learning_rate': 0.001}\n",
      "Node 27 - Best Accuracy: 0.95\n",
      "Node 27 - Number of anomalies detected: 3\n",
      "Model saved: Autoencoder_Model_Node_27.h5\n",
      "Processing file: /Users/zxgan/FYP_Kubernetes/Dataset/cleaned_dataset/node_node_28_dataset.csv\n",
      "Node 28 - Testing parameters: {'batch_size': 32, 'epochs': 50, 'hidden_layer_1': 64, 'hidden_layer_2': 32, 'learning_rate': 0.001}\n",
      "3/3 [==============================] - 0s 639us/step\n"
     ]
    },
    {
     "name": "stderr",
     "output_type": "stream",
     "text": [
      "/Library/Frameworks/Python.framework/Versions/3.11/lib/python3.11/site-packages/keras/src/engine/training.py:3000: UserWarning: You are saving your model as an HDF5 file via `model.save()`. This file format is considered legacy. We recommend using instead the native Keras format, e.g. `model.save('my_model.keras')`.\n",
      "  saving_api.save_model(\n",
      "WARNING:absl:At this time, the v2.11+ optimizer `tf.keras.optimizers.Adam` runs slowly on M1/M2 Macs, please use the legacy Keras optimizer instead, located at `tf.keras.optimizers.legacy.Adam`.\n",
      "WARNING:absl:There is a known slowdown when using v2.11+ Keras optimizers on M1/M2 Macs. Falling back to the legacy Keras optimizer, i.e., `tf.keras.optimizers.legacy.Adam`.\n"
     ]
    },
    {
     "name": "stdout",
     "output_type": "stream",
     "text": [
      "Node 28 - Best Parameters: {'batch_size': 32, 'epochs': 50, 'hidden_layer_1': 64, 'hidden_layer_2': 32, 'learning_rate': 0.001}\n",
      "Node 28 - Best Accuracy: 0.9411764705882353\n",
      "Node 28 - Number of anomalies detected: 4\n",
      "Model saved: Autoencoder_Model_Node_28.h5\n",
      "Processing file: /Users/zxgan/FYP_Kubernetes/Dataset/cleaned_dataset/node_node_29_dataset.csv\n",
      "Node 29 - Testing parameters: {'batch_size': 32, 'epochs': 50, 'hidden_layer_1': 64, 'hidden_layer_2': 32, 'learning_rate': 0.001}\n",
      "2/2 [==============================] - 0s 739us/step\n"
     ]
    },
    {
     "name": "stderr",
     "output_type": "stream",
     "text": [
      "/Library/Frameworks/Python.framework/Versions/3.11/lib/python3.11/site-packages/keras/src/engine/training.py:3000: UserWarning: You are saving your model as an HDF5 file via `model.save()`. This file format is considered legacy. We recommend using instead the native Keras format, e.g. `model.save('my_model.keras')`.\n",
      "  saving_api.save_model(\n",
      "WARNING:absl:At this time, the v2.11+ optimizer `tf.keras.optimizers.Adam` runs slowly on M1/M2 Macs, please use the legacy Keras optimizer instead, located at `tf.keras.optimizers.legacy.Adam`.\n",
      "WARNING:absl:There is a known slowdown when using v2.11+ Keras optimizers on M1/M2 Macs. Falling back to the legacy Keras optimizer, i.e., `tf.keras.optimizers.legacy.Adam`.\n"
     ]
    },
    {
     "name": "stdout",
     "output_type": "stream",
     "text": [
      "Node 29 - Best Parameters: {'batch_size': 32, 'epochs': 50, 'hidden_layer_1': 64, 'hidden_layer_2': 32, 'learning_rate': 0.001}\n",
      "Node 29 - Best Accuracy: 0.9482758620689655\n",
      "Node 29 - Number of anomalies detected: 3\n",
      "Model saved: Autoencoder_Model_Node_29.h5\n",
      "Processing file: /Users/zxgan/FYP_Kubernetes/Dataset/cleaned_dataset/node_node_30_dataset.csv\n",
      "Node 30 - Testing parameters: {'batch_size': 32, 'epochs': 50, 'hidden_layer_1': 64, 'hidden_layer_2': 32, 'learning_rate': 0.001}\n",
      "3/3 [==============================] - 0s 665us/step\n"
     ]
    },
    {
     "name": "stderr",
     "output_type": "stream",
     "text": [
      "/Library/Frameworks/Python.framework/Versions/3.11/lib/python3.11/site-packages/keras/src/engine/training.py:3000: UserWarning: You are saving your model as an HDF5 file via `model.save()`. This file format is considered legacy. We recommend using instead the native Keras format, e.g. `model.save('my_model.keras')`.\n",
      "  saving_api.save_model(\n",
      "WARNING:absl:At this time, the v2.11+ optimizer `tf.keras.optimizers.Adam` runs slowly on M1/M2 Macs, please use the legacy Keras optimizer instead, located at `tf.keras.optimizers.legacy.Adam`.\n",
      "WARNING:absl:There is a known slowdown when using v2.11+ Keras optimizers on M1/M2 Macs. Falling back to the legacy Keras optimizer, i.e., `tf.keras.optimizers.legacy.Adam`.\n"
     ]
    },
    {
     "name": "stdout",
     "output_type": "stream",
     "text": [
      "Node 30 - Best Parameters: {'batch_size': 32, 'epochs': 50, 'hidden_layer_1': 64, 'hidden_layer_2': 32, 'learning_rate': 0.001}\n",
      "Node 30 - Best Accuracy: 0.9393939393939394\n",
      "Node 30 - Number of anomalies detected: 4\n",
      "Model saved: Autoencoder_Model_Node_30.h5\n",
      "Processing file: /Users/zxgan/FYP_Kubernetes/Dataset/cleaned_dataset/node_node_31_dataset.csv\n",
      "Node 31 - Testing parameters: {'batch_size': 32, 'epochs': 50, 'hidden_layer_1': 64, 'hidden_layer_2': 32, 'learning_rate': 0.001}\n",
      "2/2 [==============================] - 0s 1ms/step\n"
     ]
    },
    {
     "name": "stderr",
     "output_type": "stream",
     "text": [
      "/Library/Frameworks/Python.framework/Versions/3.11/lib/python3.11/site-packages/keras/src/engine/training.py:3000: UserWarning: You are saving your model as an HDF5 file via `model.save()`. This file format is considered legacy. We recommend using instead the native Keras format, e.g. `model.save('my_model.keras')`.\n",
      "  saving_api.save_model(\n",
      "WARNING:absl:At this time, the v2.11+ optimizer `tf.keras.optimizers.Adam` runs slowly on M1/M2 Macs, please use the legacy Keras optimizer instead, located at `tf.keras.optimizers.legacy.Adam`.\n",
      "WARNING:absl:There is a known slowdown when using v2.11+ Keras optimizers on M1/M2 Macs. Falling back to the legacy Keras optimizer, i.e., `tf.keras.optimizers.legacy.Adam`.\n"
     ]
    },
    {
     "name": "stdout",
     "output_type": "stream",
     "text": [
      "Node 31 - Best Parameters: {'batch_size': 32, 'epochs': 50, 'hidden_layer_1': 64, 'hidden_layer_2': 32, 'learning_rate': 0.001}\n",
      "Node 31 - Best Accuracy: 0.9354838709677419\n",
      "Node 31 - Number of anomalies detected: 4\n",
      "Model saved: Autoencoder_Model_Node_31.h5\n",
      "Processing file: /Users/zxgan/FYP_Kubernetes/Dataset/cleaned_dataset/node_node_32_dataset.csv\n",
      "Node 32 - Testing parameters: {'batch_size': 32, 'epochs': 50, 'hidden_layer_1': 64, 'hidden_layer_2': 32, 'learning_rate': 0.001}\n",
      "2/2 [==============================] - 0s 1ms/step\n"
     ]
    },
    {
     "name": "stderr",
     "output_type": "stream",
     "text": [
      "/Library/Frameworks/Python.framework/Versions/3.11/lib/python3.11/site-packages/keras/src/engine/training.py:3000: UserWarning: You are saving your model as an HDF5 file via `model.save()`. This file format is considered legacy. We recommend using instead the native Keras format, e.g. `model.save('my_model.keras')`.\n",
      "  saving_api.save_model(\n",
      "WARNING:absl:At this time, the v2.11+ optimizer `tf.keras.optimizers.Adam` runs slowly on M1/M2 Macs, please use the legacy Keras optimizer instead, located at `tf.keras.optimizers.legacy.Adam`.\n",
      "WARNING:absl:There is a known slowdown when using v2.11+ Keras optimizers on M1/M2 Macs. Falling back to the legacy Keras optimizer, i.e., `tf.keras.optimizers.legacy.Adam`.\n"
     ]
    },
    {
     "name": "stdout",
     "output_type": "stream",
     "text": [
      "Node 32 - Best Parameters: {'batch_size': 32, 'epochs': 50, 'hidden_layer_1': 64, 'hidden_layer_2': 32, 'learning_rate': 0.001}\n",
      "Node 32 - Best Accuracy: 0.9508196721311475\n",
      "Node 32 - Number of anomalies detected: 3\n",
      "Model saved: Autoencoder_Model_Node_32.h5\n",
      "Processing file: /Users/zxgan/FYP_Kubernetes/Dataset/cleaned_dataset/node_node_33_dataset.csv\n",
      "Node 33 - Testing parameters: {'batch_size': 32, 'epochs': 50, 'hidden_layer_1': 64, 'hidden_layer_2': 32, 'learning_rate': 0.001}\n",
      "2/2 [==============================] - 0s 1ms/step\n"
     ]
    },
    {
     "name": "stderr",
     "output_type": "stream",
     "text": [
      "/Library/Frameworks/Python.framework/Versions/3.11/lib/python3.11/site-packages/keras/src/engine/training.py:3000: UserWarning: You are saving your model as an HDF5 file via `model.save()`. This file format is considered legacy. We recommend using instead the native Keras format, e.g. `model.save('my_model.keras')`.\n",
      "  saving_api.save_model(\n",
      "WARNING:absl:At this time, the v2.11+ optimizer `tf.keras.optimizers.Adam` runs slowly on M1/M2 Macs, please use the legacy Keras optimizer instead, located at `tf.keras.optimizers.legacy.Adam`.\n",
      "WARNING:absl:There is a known slowdown when using v2.11+ Keras optimizers on M1/M2 Macs. Falling back to the legacy Keras optimizer, i.e., `tf.keras.optimizers.legacy.Adam`.\n"
     ]
    },
    {
     "name": "stdout",
     "output_type": "stream",
     "text": [
      "Node 33 - Best Parameters: {'batch_size': 32, 'epochs': 50, 'hidden_layer_1': 64, 'hidden_layer_2': 32, 'learning_rate': 0.001}\n",
      "Node 33 - Best Accuracy: 0.9354838709677419\n",
      "Node 33 - Number of anomalies detected: 4\n",
      "Model saved: Autoencoder_Model_Node_33.h5\n",
      "Processing file: /Users/zxgan/FYP_Kubernetes/Dataset/cleaned_dataset/node_node_34_dataset.csv\n",
      "Node 34 - Testing parameters: {'batch_size': 32, 'epochs': 50, 'hidden_layer_1': 64, 'hidden_layer_2': 32, 'learning_rate': 0.001}\n",
      "2/2 [==============================] - 0s 903us/step\n"
     ]
    },
    {
     "name": "stderr",
     "output_type": "stream",
     "text": [
      "/Library/Frameworks/Python.framework/Versions/3.11/lib/python3.11/site-packages/keras/src/engine/training.py:3000: UserWarning: You are saving your model as an HDF5 file via `model.save()`. This file format is considered legacy. We recommend using instead the native Keras format, e.g. `model.save('my_model.keras')`.\n",
      "  saving_api.save_model(\n",
      "WARNING:absl:At this time, the v2.11+ optimizer `tf.keras.optimizers.Adam` runs slowly on M1/M2 Macs, please use the legacy Keras optimizer instead, located at `tf.keras.optimizers.legacy.Adam`.\n",
      "WARNING:absl:There is a known slowdown when using v2.11+ Keras optimizers on M1/M2 Macs. Falling back to the legacy Keras optimizer, i.e., `tf.keras.optimizers.legacy.Adam`.\n"
     ]
    },
    {
     "name": "stdout",
     "output_type": "stream",
     "text": [
      "Node 34 - Best Parameters: {'batch_size': 32, 'epochs': 50, 'hidden_layer_1': 64, 'hidden_layer_2': 32, 'learning_rate': 0.001}\n",
      "Node 34 - Best Accuracy: 0.9423076923076923\n",
      "Node 34 - Number of anomalies detected: 3\n",
      "Model saved: Autoencoder_Model_Node_34.h5\n",
      "Processing file: /Users/zxgan/FYP_Kubernetes/Dataset/cleaned_dataset/node_node_35_dataset.csv\n",
      "Node 35 - Testing parameters: {'batch_size': 32, 'epochs': 50, 'hidden_layer_1': 64, 'hidden_layer_2': 32, 'learning_rate': 0.001}\n",
      "2/2 [==============================] - 0s 1ms/step\n"
     ]
    },
    {
     "name": "stderr",
     "output_type": "stream",
     "text": [
      "/Library/Frameworks/Python.framework/Versions/3.11/lib/python3.11/site-packages/keras/src/engine/training.py:3000: UserWarning: You are saving your model as an HDF5 file via `model.save()`. This file format is considered legacy. We recommend using instead the native Keras format, e.g. `model.save('my_model.keras')`.\n",
      "  saving_api.save_model(\n",
      "WARNING:absl:At this time, the v2.11+ optimizer `tf.keras.optimizers.Adam` runs slowly on M1/M2 Macs, please use the legacy Keras optimizer instead, located at `tf.keras.optimizers.legacy.Adam`.\n",
      "WARNING:absl:There is a known slowdown when using v2.11+ Keras optimizers on M1/M2 Macs. Falling back to the legacy Keras optimizer, i.e., `tf.keras.optimizers.legacy.Adam`.\n"
     ]
    },
    {
     "name": "stdout",
     "output_type": "stream",
     "text": [
      "Node 35 - Best Parameters: {'batch_size': 32, 'epochs': 50, 'hidden_layer_1': 64, 'hidden_layer_2': 32, 'learning_rate': 0.001}\n",
      "Node 35 - Best Accuracy: 0.9454545454545454\n",
      "Node 35 - Number of anomalies detected: 3\n",
      "Model saved: Autoencoder_Model_Node_35.h5\n",
      "Processing file: /Users/zxgan/FYP_Kubernetes/Dataset/cleaned_dataset/node_node_36_dataset.csv\n",
      "Node 36 - Testing parameters: {'batch_size': 32, 'epochs': 50, 'hidden_layer_1': 64, 'hidden_layer_2': 32, 'learning_rate': 0.001}\n",
      "2/2 [==============================] - 0s 889us/step\n"
     ]
    },
    {
     "name": "stderr",
     "output_type": "stream",
     "text": [
      "/Library/Frameworks/Python.framework/Versions/3.11/lib/python3.11/site-packages/keras/src/engine/training.py:3000: UserWarning: You are saving your model as an HDF5 file via `model.save()`. This file format is considered legacy. We recommend using instead the native Keras format, e.g. `model.save('my_model.keras')`.\n",
      "  saving_api.save_model(\n",
      "WARNING:absl:At this time, the v2.11+ optimizer `tf.keras.optimizers.Adam` runs slowly on M1/M2 Macs, please use the legacy Keras optimizer instead, located at `tf.keras.optimizers.legacy.Adam`.\n",
      "WARNING:absl:There is a known slowdown when using v2.11+ Keras optimizers on M1/M2 Macs. Falling back to the legacy Keras optimizer, i.e., `tf.keras.optimizers.legacy.Adam`.\n"
     ]
    },
    {
     "name": "stdout",
     "output_type": "stream",
     "text": [
      "Node 36 - Best Parameters: {'batch_size': 32, 'epochs': 50, 'hidden_layer_1': 64, 'hidden_layer_2': 32, 'learning_rate': 0.001}\n",
      "Node 36 - Best Accuracy: 0.9354838709677419\n",
      "Node 36 - Number of anomalies detected: 4\n",
      "Model saved: Autoencoder_Model_Node_36.h5\n",
      "Processing file: /Users/zxgan/FYP_Kubernetes/Dataset/cleaned_dataset/node_node_37_dataset.csv\n",
      "Node 37 - Testing parameters: {'batch_size': 32, 'epochs': 50, 'hidden_layer_1': 64, 'hidden_layer_2': 32, 'learning_rate': 0.001}\n",
      "3/3 [==============================] - 0s 670us/step\n"
     ]
    },
    {
     "name": "stderr",
     "output_type": "stream",
     "text": [
      "/Library/Frameworks/Python.framework/Versions/3.11/lib/python3.11/site-packages/keras/src/engine/training.py:3000: UserWarning: You are saving your model as an HDF5 file via `model.save()`. This file format is considered legacy. We recommend using instead the native Keras format, e.g. `model.save('my_model.keras')`.\n",
      "  saving_api.save_model(\n",
      "WARNING:absl:At this time, the v2.11+ optimizer `tf.keras.optimizers.Adam` runs slowly on M1/M2 Macs, please use the legacy Keras optimizer instead, located at `tf.keras.optimizers.legacy.Adam`.\n",
      "WARNING:absl:There is a known slowdown when using v2.11+ Keras optimizers on M1/M2 Macs. Falling back to the legacy Keras optimizer, i.e., `tf.keras.optimizers.legacy.Adam`.\n"
     ]
    },
    {
     "name": "stdout",
     "output_type": "stream",
     "text": [
      "Node 37 - Best Parameters: {'batch_size': 32, 'epochs': 50, 'hidden_layer_1': 64, 'hidden_layer_2': 32, 'learning_rate': 0.001}\n",
      "Node 37 - Best Accuracy: 0.9411764705882353\n",
      "Node 37 - Number of anomalies detected: 4\n",
      "Model saved: Autoencoder_Model_Node_37.h5\n",
      "Processing file: /Users/zxgan/FYP_Kubernetes/Dataset/cleaned_dataset/node_node_38_dataset.csv\n",
      "Node 38 - Testing parameters: {'batch_size': 32, 'epochs': 50, 'hidden_layer_1': 64, 'hidden_layer_2': 32, 'learning_rate': 0.001}\n",
      "2/2 [==============================] - 0s 732us/step\n"
     ]
    },
    {
     "name": "stderr",
     "output_type": "stream",
     "text": [
      "/Library/Frameworks/Python.framework/Versions/3.11/lib/python3.11/site-packages/keras/src/engine/training.py:3000: UserWarning: You are saving your model as an HDF5 file via `model.save()`. This file format is considered legacy. We recommend using instead the native Keras format, e.g. `model.save('my_model.keras')`.\n",
      "  saving_api.save_model(\n",
      "WARNING:absl:At this time, the v2.11+ optimizer `tf.keras.optimizers.Adam` runs slowly on M1/M2 Macs, please use the legacy Keras optimizer instead, located at `tf.keras.optimizers.legacy.Adam`.\n",
      "WARNING:absl:There is a known slowdown when using v2.11+ Keras optimizers on M1/M2 Macs. Falling back to the legacy Keras optimizer, i.e., `tf.keras.optimizers.legacy.Adam`.\n"
     ]
    },
    {
     "name": "stdout",
     "output_type": "stream",
     "text": [
      "Node 38 - Best Parameters: {'batch_size': 32, 'epochs': 50, 'hidden_layer_1': 64, 'hidden_layer_2': 32, 'learning_rate': 0.001}\n",
      "Node 38 - Best Accuracy: 0.95\n",
      "Node 38 - Number of anomalies detected: 3\n",
      "Model saved: Autoencoder_Model_Node_38.h5\n",
      "Processing file: /Users/zxgan/FYP_Kubernetes/Dataset/cleaned_dataset/node_node_39_dataset.csv\n",
      "Node 39 - Testing parameters: {'batch_size': 32, 'epochs': 50, 'hidden_layer_1': 64, 'hidden_layer_2': 32, 'learning_rate': 0.001}\n",
      "2/2 [==============================] - 0s 872us/step\n"
     ]
    },
    {
     "name": "stderr",
     "output_type": "stream",
     "text": [
      "/Library/Frameworks/Python.framework/Versions/3.11/lib/python3.11/site-packages/keras/src/engine/training.py:3000: UserWarning: You are saving your model as an HDF5 file via `model.save()`. This file format is considered legacy. We recommend using instead the native Keras format, e.g. `model.save('my_model.keras')`.\n",
      "  saving_api.save_model(\n",
      "WARNING:absl:At this time, the v2.11+ optimizer `tf.keras.optimizers.Adam` runs slowly on M1/M2 Macs, please use the legacy Keras optimizer instead, located at `tf.keras.optimizers.legacy.Adam`.\n",
      "WARNING:absl:There is a known slowdown when using v2.11+ Keras optimizers on M1/M2 Macs. Falling back to the legacy Keras optimizer, i.e., `tf.keras.optimizers.legacy.Adam`.\n"
     ]
    },
    {
     "name": "stdout",
     "output_type": "stream",
     "text": [
      "Node 39 - Best Parameters: {'batch_size': 32, 'epochs': 50, 'hidden_layer_1': 64, 'hidden_layer_2': 32, 'learning_rate': 0.001}\n",
      "Node 39 - Best Accuracy: 0.9354838709677419\n",
      "Node 39 - Number of anomalies detected: 4\n",
      "Model saved: Autoencoder_Model_Node_39.h5\n",
      "Processing file: /Users/zxgan/FYP_Kubernetes/Dataset/cleaned_dataset/node_node_40_dataset.csv\n",
      "Node 40 - Testing parameters: {'batch_size': 32, 'epochs': 50, 'hidden_layer_1': 64, 'hidden_layer_2': 32, 'learning_rate': 0.001}\n",
      "2/2 [==============================] - 0s 734us/step\n"
     ]
    },
    {
     "name": "stderr",
     "output_type": "stream",
     "text": [
      "/Library/Frameworks/Python.framework/Versions/3.11/lib/python3.11/site-packages/keras/src/engine/training.py:3000: UserWarning: You are saving your model as an HDF5 file via `model.save()`. This file format is considered legacy. We recommend using instead the native Keras format, e.g. `model.save('my_model.keras')`.\n",
      "  saving_api.save_model(\n",
      "WARNING:absl:At this time, the v2.11+ optimizer `tf.keras.optimizers.Adam` runs slowly on M1/M2 Macs, please use the legacy Keras optimizer instead, located at `tf.keras.optimizers.legacy.Adam`.\n",
      "WARNING:absl:There is a known slowdown when using v2.11+ Keras optimizers on M1/M2 Macs. Falling back to the legacy Keras optimizer, i.e., `tf.keras.optimizers.legacy.Adam`.\n"
     ]
    },
    {
     "name": "stdout",
     "output_type": "stream",
     "text": [
      "Node 40 - Best Parameters: {'batch_size': 32, 'epochs': 50, 'hidden_layer_1': 64, 'hidden_layer_2': 32, 'learning_rate': 0.001}\n",
      "Node 40 - Best Accuracy: 0.9482758620689655\n",
      "Node 40 - Number of anomalies detected: 3\n",
      "Model saved: Autoencoder_Model_Node_40.h5\n",
      "Processing file: /Users/zxgan/FYP_Kubernetes/Dataset/cleaned_dataset/node_node_41_dataset.csv\n",
      "Node 41 - Testing parameters: {'batch_size': 32, 'epochs': 50, 'hidden_layer_1': 64, 'hidden_layer_2': 32, 'learning_rate': 0.001}\n",
      "2/2 [==============================] - 0s 700us/step\n"
     ]
    },
    {
     "name": "stderr",
     "output_type": "stream",
     "text": [
      "/Library/Frameworks/Python.framework/Versions/3.11/lib/python3.11/site-packages/keras/src/engine/training.py:3000: UserWarning: You are saving your model as an HDF5 file via `model.save()`. This file format is considered legacy. We recommend using instead the native Keras format, e.g. `model.save('my_model.keras')`.\n",
      "  saving_api.save_model(\n",
      "WARNING:absl:At this time, the v2.11+ optimizer `tf.keras.optimizers.Adam` runs slowly on M1/M2 Macs, please use the legacy Keras optimizer instead, located at `tf.keras.optimizers.legacy.Adam`.\n",
      "WARNING:absl:There is a known slowdown when using v2.11+ Keras optimizers on M1/M2 Macs. Falling back to the legacy Keras optimizer, i.e., `tf.keras.optimizers.legacy.Adam`.\n"
     ]
    },
    {
     "name": "stdout",
     "output_type": "stream",
     "text": [
      "Node 41 - Best Parameters: {'batch_size': 32, 'epochs': 50, 'hidden_layer_1': 64, 'hidden_layer_2': 32, 'learning_rate': 0.001}\n",
      "Node 41 - Best Accuracy: 0.9375\n",
      "Node 41 - Number of anomalies detected: 4\n",
      "Model saved: Autoencoder_Model_Node_41.h5\n",
      "Processing file: /Users/zxgan/FYP_Kubernetes/Dataset/cleaned_dataset/node_node_42_dataset.csv\n",
      "Node 42 - Testing parameters: {'batch_size': 32, 'epochs': 50, 'hidden_layer_1': 64, 'hidden_layer_2': 32, 'learning_rate': 0.001}\n",
      "2/2 [==============================] - 0s 967us/step\n"
     ]
    },
    {
     "name": "stderr",
     "output_type": "stream",
     "text": [
      "/Library/Frameworks/Python.framework/Versions/3.11/lib/python3.11/site-packages/keras/src/engine/training.py:3000: UserWarning: You are saving your model as an HDF5 file via `model.save()`. This file format is considered legacy. We recommend using instead the native Keras format, e.g. `model.save('my_model.keras')`.\n",
      "  saving_api.save_model(\n",
      "WARNING:absl:At this time, the v2.11+ optimizer `tf.keras.optimizers.Adam` runs slowly on M1/M2 Macs, please use the legacy Keras optimizer instead, located at `tf.keras.optimizers.legacy.Adam`.\n",
      "WARNING:absl:There is a known slowdown when using v2.11+ Keras optimizers on M1/M2 Macs. Falling back to the legacy Keras optimizer, i.e., `tf.keras.optimizers.legacy.Adam`.\n"
     ]
    },
    {
     "name": "stdout",
     "output_type": "stream",
     "text": [
      "Node 42 - Best Parameters: {'batch_size': 32, 'epochs': 50, 'hidden_layer_1': 64, 'hidden_layer_2': 32, 'learning_rate': 0.001}\n",
      "Node 42 - Best Accuracy: 0.95\n",
      "Node 42 - Number of anomalies detected: 3\n",
      "Model saved: Autoencoder_Model_Node_42.h5\n",
      "Processing file: /Users/zxgan/FYP_Kubernetes/Dataset/cleaned_dataset/node_node_43_dataset.csv\n",
      "Node 43 - Testing parameters: {'batch_size': 32, 'epochs': 50, 'hidden_layer_1': 64, 'hidden_layer_2': 32, 'learning_rate': 0.001}\n",
      "2/2 [==============================] - 0s 771us/step\n"
     ]
    },
    {
     "name": "stderr",
     "output_type": "stream",
     "text": [
      "/Library/Frameworks/Python.framework/Versions/3.11/lib/python3.11/site-packages/keras/src/engine/training.py:3000: UserWarning: You are saving your model as an HDF5 file via `model.save()`. This file format is considered legacy. We recommend using instead the native Keras format, e.g. `model.save('my_model.keras')`.\n",
      "  saving_api.save_model(\n",
      "WARNING:absl:At this time, the v2.11+ optimizer `tf.keras.optimizers.Adam` runs slowly on M1/M2 Macs, please use the legacy Keras optimizer instead, located at `tf.keras.optimizers.legacy.Adam`.\n",
      "WARNING:absl:There is a known slowdown when using v2.11+ Keras optimizers on M1/M2 Macs. Falling back to the legacy Keras optimizer, i.e., `tf.keras.optimizers.legacy.Adam`.\n"
     ]
    },
    {
     "name": "stdout",
     "output_type": "stream",
     "text": [
      "Node 43 - Best Parameters: {'batch_size': 32, 'epochs': 50, 'hidden_layer_1': 64, 'hidden_layer_2': 32, 'learning_rate': 0.001}\n",
      "Node 43 - Best Accuracy: 0.9482758620689655\n",
      "Node 43 - Number of anomalies detected: 3\n",
      "Model saved: Autoencoder_Model_Node_43.h5\n",
      "Processing file: /Users/zxgan/FYP_Kubernetes/Dataset/cleaned_dataset/node_node_44_dataset.csv\n",
      "Node 44 - Testing parameters: {'batch_size': 32, 'epochs': 50, 'hidden_layer_1': 64, 'hidden_layer_2': 32, 'learning_rate': 0.001}\n",
      "2/2 [==============================] - 0s 726us/step\n"
     ]
    },
    {
     "name": "stderr",
     "output_type": "stream",
     "text": [
      "/Library/Frameworks/Python.framework/Versions/3.11/lib/python3.11/site-packages/keras/src/engine/training.py:3000: UserWarning: You are saving your model as an HDF5 file via `model.save()`. This file format is considered legacy. We recommend using instead the native Keras format, e.g. `model.save('my_model.keras')`.\n",
      "  saving_api.save_model(\n",
      "WARNING:absl:At this time, the v2.11+ optimizer `tf.keras.optimizers.Adam` runs slowly on M1/M2 Macs, please use the legacy Keras optimizer instead, located at `tf.keras.optimizers.legacy.Adam`.\n",
      "WARNING:absl:There is a known slowdown when using v2.11+ Keras optimizers on M1/M2 Macs. Falling back to the legacy Keras optimizer, i.e., `tf.keras.optimizers.legacy.Adam`.\n"
     ]
    },
    {
     "name": "stdout",
     "output_type": "stream",
     "text": [
      "Node 44 - Best Parameters: {'batch_size': 32, 'epochs': 50, 'hidden_layer_1': 64, 'hidden_layer_2': 32, 'learning_rate': 0.001}\n",
      "Node 44 - Best Accuracy: 0.95\n",
      "Node 44 - Number of anomalies detected: 3\n",
      "Model saved: Autoencoder_Model_Node_44.h5\n",
      "Processing file: /Users/zxgan/FYP_Kubernetes/Dataset/cleaned_dataset/node_node_45_dataset.csv\n",
      "Node 45 - Testing parameters: {'batch_size': 32, 'epochs': 50, 'hidden_layer_1': 64, 'hidden_layer_2': 32, 'learning_rate': 0.001}\n",
      "2/2 [==============================] - 0s 926us/step\n"
     ]
    },
    {
     "name": "stderr",
     "output_type": "stream",
     "text": [
      "/Library/Frameworks/Python.framework/Versions/3.11/lib/python3.11/site-packages/keras/src/engine/training.py:3000: UserWarning: You are saving your model as an HDF5 file via `model.save()`. This file format is considered legacy. We recommend using instead the native Keras format, e.g. `model.save('my_model.keras')`.\n",
      "  saving_api.save_model(\n",
      "WARNING:absl:At this time, the v2.11+ optimizer `tf.keras.optimizers.Adam` runs slowly on M1/M2 Macs, please use the legacy Keras optimizer instead, located at `tf.keras.optimizers.legacy.Adam`.\n",
      "WARNING:absl:There is a known slowdown when using v2.11+ Keras optimizers on M1/M2 Macs. Falling back to the legacy Keras optimizer, i.e., `tf.keras.optimizers.legacy.Adam`.\n"
     ]
    },
    {
     "name": "stdout",
     "output_type": "stream",
     "text": [
      "Node 45 - Best Parameters: {'batch_size': 32, 'epochs': 50, 'hidden_layer_1': 64, 'hidden_layer_2': 32, 'learning_rate': 0.001}\n",
      "Node 45 - Best Accuracy: 0.9354838709677419\n",
      "Node 45 - Number of anomalies detected: 4\n",
      "Model saved: Autoencoder_Model_Node_45.h5\n",
      "Processing file: /Users/zxgan/FYP_Kubernetes/Dataset/cleaned_dataset/node_node_46_dataset.csv\n",
      "Node 46 - Testing parameters: {'batch_size': 32, 'epochs': 50, 'hidden_layer_1': 64, 'hidden_layer_2': 32, 'learning_rate': 0.001}\n",
      "2/2 [==============================] - 0s 808us/step\n"
     ]
    },
    {
     "name": "stderr",
     "output_type": "stream",
     "text": [
      "/Library/Frameworks/Python.framework/Versions/3.11/lib/python3.11/site-packages/keras/src/engine/training.py:3000: UserWarning: You are saving your model as an HDF5 file via `model.save()`. This file format is considered legacy. We recommend using instead the native Keras format, e.g. `model.save('my_model.keras')`.\n",
      "  saving_api.save_model(\n",
      "WARNING:absl:At this time, the v2.11+ optimizer `tf.keras.optimizers.Adam` runs slowly on M1/M2 Macs, please use the legacy Keras optimizer instead, located at `tf.keras.optimizers.legacy.Adam`.\n",
      "WARNING:absl:There is a known slowdown when using v2.11+ Keras optimizers on M1/M2 Macs. Falling back to the legacy Keras optimizer, i.e., `tf.keras.optimizers.legacy.Adam`.\n"
     ]
    },
    {
     "name": "stdout",
     "output_type": "stream",
     "text": [
      "Node 46 - Best Parameters: {'batch_size': 32, 'epochs': 50, 'hidden_layer_1': 64, 'hidden_layer_2': 32, 'learning_rate': 0.001}\n",
      "Node 46 - Best Accuracy: 0.9464285714285714\n",
      "Node 46 - Number of anomalies detected: 3\n",
      "Model saved: Autoencoder_Model_Node_46.h5\n",
      "Processing file: /Users/zxgan/FYP_Kubernetes/Dataset/cleaned_dataset/node_node_47_dataset.csv\n",
      "Node 47 - Testing parameters: {'batch_size': 32, 'epochs': 50, 'hidden_layer_1': 64, 'hidden_layer_2': 32, 'learning_rate': 0.001}\n",
      "2/2 [==============================] - 0s 769us/step\n"
     ]
    },
    {
     "name": "stderr",
     "output_type": "stream",
     "text": [
      "/Library/Frameworks/Python.framework/Versions/3.11/lib/python3.11/site-packages/keras/src/engine/training.py:3000: UserWarning: You are saving your model as an HDF5 file via `model.save()`. This file format is considered legacy. We recommend using instead the native Keras format, e.g. `model.save('my_model.keras')`.\n",
      "  saving_api.save_model(\n",
      "WARNING:absl:At this time, the v2.11+ optimizer `tf.keras.optimizers.Adam` runs slowly on M1/M2 Macs, please use the legacy Keras optimizer instead, located at `tf.keras.optimizers.legacy.Adam`.\n",
      "WARNING:absl:There is a known slowdown when using v2.11+ Keras optimizers on M1/M2 Macs. Falling back to the legacy Keras optimizer, i.e., `tf.keras.optimizers.legacy.Adam`.\n"
     ]
    },
    {
     "name": "stdout",
     "output_type": "stream",
     "text": [
      "Node 47 - Best Parameters: {'batch_size': 32, 'epochs': 50, 'hidden_layer_1': 64, 'hidden_layer_2': 32, 'learning_rate': 0.001}\n",
      "Node 47 - Best Accuracy: 0.9365079365079365\n",
      "Node 47 - Number of anomalies detected: 4\n",
      "Model saved: Autoencoder_Model_Node_47.h5\n",
      "Processing file: /Users/zxgan/FYP_Kubernetes/Dataset/cleaned_dataset/node_node_48_dataset.csv\n",
      "Node 48 - Testing parameters: {'batch_size': 32, 'epochs': 50, 'hidden_layer_1': 64, 'hidden_layer_2': 32, 'learning_rate': 0.001}\n",
      "2/2 [==============================] - 0s 818us/step\n"
     ]
    },
    {
     "name": "stderr",
     "output_type": "stream",
     "text": [
      "/Library/Frameworks/Python.framework/Versions/3.11/lib/python3.11/site-packages/keras/src/engine/training.py:3000: UserWarning: You are saving your model as an HDF5 file via `model.save()`. This file format is considered legacy. We recommend using instead the native Keras format, e.g. `model.save('my_model.keras')`.\n",
      "  saving_api.save_model(\n",
      "WARNING:absl:At this time, the v2.11+ optimizer `tf.keras.optimizers.Adam` runs slowly on M1/M2 Macs, please use the legacy Keras optimizer instead, located at `tf.keras.optimizers.legacy.Adam`.\n",
      "WARNING:absl:There is a known slowdown when using v2.11+ Keras optimizers on M1/M2 Macs. Falling back to the legacy Keras optimizer, i.e., `tf.keras.optimizers.legacy.Adam`.\n"
     ]
    },
    {
     "name": "stdout",
     "output_type": "stream",
     "text": [
      "Node 48 - Best Parameters: {'batch_size': 32, 'epochs': 50, 'hidden_layer_1': 64, 'hidden_layer_2': 32, 'learning_rate': 0.001}\n",
      "Node 48 - Best Accuracy: 0.9482758620689655\n",
      "Node 48 - Number of anomalies detected: 3\n",
      "Model saved: Autoencoder_Model_Node_48.h5\n",
      "Processing file: /Users/zxgan/FYP_Kubernetes/Dataset/cleaned_dataset/node_node_49_dataset.csv\n",
      "Node 49 - Testing parameters: {'batch_size': 32, 'epochs': 50, 'hidden_layer_1': 64, 'hidden_layer_2': 32, 'learning_rate': 0.001}\n",
      "2/2 [==============================] - 0s 746us/step\n",
      "Node 49 - Best Parameters: {'batch_size': 32, 'epochs': 50, 'hidden_layer_1': 64, 'hidden_layer_2': 32, 'learning_rate': 0.001}\n",
      "Node 49 - Best Accuracy: 0.9433962264150944\n",
      "Node 49 - Number of anomalies detected: 3\n",
      "Model saved: Autoencoder_Model_Node_49.h5\n"
     ]
    },
    {
     "name": "stderr",
     "output_type": "stream",
     "text": [
      "/Library/Frameworks/Python.framework/Versions/3.11/lib/python3.11/site-packages/keras/src/engine/training.py:3000: UserWarning: You are saving your model as an HDF5 file via `model.save()`. This file format is considered legacy. We recommend using instead the native Keras format, e.g. `model.save('my_model.keras')`.\n",
      "  saving_api.save_model(\n"
     ]
    },
    {
     "data": {
      "application/vnd.plotly.v1+json": {
       "config": {
        "plotlyServerURL": "https://plot.ly"
       },
       "data": [
        {
         "cells": {
          "align": "left",
          "fill": {
           "color": "lavender"
          },
          "values": [
           [
            "Node_0",
            "Node_1",
            "Node_2",
            "Node_3",
            "Node_4",
            "Node_5",
            "Node_6",
            "Node_7",
            "Node_8",
            "Node_9",
            "Node_10",
            "Node_11",
            "Node_12",
            "Node_13",
            "Node_14",
            "Node_15",
            "Node_16",
            "Node_17",
            "Node_18",
            "Node_19",
            "Node_20",
            "Node_21",
            "Node_22",
            "Node_23",
            "Node_24",
            "Node_25",
            "Node_26",
            "Node_27",
            "Node_28",
            "Node_29",
            "Node_30",
            "Node_31",
            "Node_32",
            "Node_33",
            "Node_34",
            "Node_35",
            "Node_36",
            "Node_37",
            "Node_38",
            "Node_39",
            "Node_40",
            "Node_41",
            "Node_42",
            "Node_43",
            "Node_44",
            "Node_45",
            "Node_46",
            "Node_47",
            "Node_48",
            "Node_49"
           ],
           [
            "{'batch_size': 32, 'epochs': 50, 'hidden_layer_1': 64, 'hidden_layer_2': 32, 'learning_rate': 0.001}",
            "{'batch_size': 32, 'epochs': 50, 'hidden_layer_1': 64, 'hidden_layer_2': 32, 'learning_rate': 0.001}",
            "{'batch_size': 32, 'epochs': 50, 'hidden_layer_1': 64, 'hidden_layer_2': 32, 'learning_rate': 0.001}",
            "{'batch_size': 32, 'epochs': 50, 'hidden_layer_1': 64, 'hidden_layer_2': 32, 'learning_rate': 0.001}",
            "{'batch_size': 32, 'epochs': 50, 'hidden_layer_1': 64, 'hidden_layer_2': 32, 'learning_rate': 0.001}",
            "{'batch_size': 32, 'epochs': 50, 'hidden_layer_1': 64, 'hidden_layer_2': 32, 'learning_rate': 0.001}",
            "{'batch_size': 32, 'epochs': 50, 'hidden_layer_1': 64, 'hidden_layer_2': 32, 'learning_rate': 0.001}",
            "{'batch_size': 32, 'epochs': 50, 'hidden_layer_1': 64, 'hidden_layer_2': 32, 'learning_rate': 0.001}",
            "{'batch_size': 32, 'epochs': 50, 'hidden_layer_1': 64, 'hidden_layer_2': 32, 'learning_rate': 0.001}",
            "{'batch_size': 32, 'epochs': 50, 'hidden_layer_1': 64, 'hidden_layer_2': 32, 'learning_rate': 0.001}",
            "{'batch_size': 32, 'epochs': 50, 'hidden_layer_1': 64, 'hidden_layer_2': 32, 'learning_rate': 0.001}",
            "{'batch_size': 32, 'epochs': 50, 'hidden_layer_1': 64, 'hidden_layer_2': 32, 'learning_rate': 0.001}",
            "{'batch_size': 32, 'epochs': 50, 'hidden_layer_1': 64, 'hidden_layer_2': 32, 'learning_rate': 0.001}",
            "{'batch_size': 32, 'epochs': 50, 'hidden_layer_1': 64, 'hidden_layer_2': 32, 'learning_rate': 0.001}",
            "{'batch_size': 32, 'epochs': 50, 'hidden_layer_1': 64, 'hidden_layer_2': 32, 'learning_rate': 0.001}",
            "{'batch_size': 32, 'epochs': 50, 'hidden_layer_1': 64, 'hidden_layer_2': 32, 'learning_rate': 0.001}",
            "{'batch_size': 32, 'epochs': 50, 'hidden_layer_1': 64, 'hidden_layer_2': 32, 'learning_rate': 0.001}",
            "{'batch_size': 32, 'epochs': 50, 'hidden_layer_1': 64, 'hidden_layer_2': 32, 'learning_rate': 0.001}",
            "{'batch_size': 32, 'epochs': 50, 'hidden_layer_1': 64, 'hidden_layer_2': 32, 'learning_rate': 0.001}",
            "{'batch_size': 32, 'epochs': 50, 'hidden_layer_1': 64, 'hidden_layer_2': 32, 'learning_rate': 0.001}",
            "{'batch_size': 32, 'epochs': 50, 'hidden_layer_1': 64, 'hidden_layer_2': 32, 'learning_rate': 0.001}",
            "{'batch_size': 32, 'epochs': 50, 'hidden_layer_1': 64, 'hidden_layer_2': 32, 'learning_rate': 0.001}",
            "{'batch_size': 32, 'epochs': 50, 'hidden_layer_1': 64, 'hidden_layer_2': 32, 'learning_rate': 0.001}",
            "{'batch_size': 32, 'epochs': 50, 'hidden_layer_1': 64, 'hidden_layer_2': 32, 'learning_rate': 0.001}",
            "{'batch_size': 32, 'epochs': 50, 'hidden_layer_1': 64, 'hidden_layer_2': 32, 'learning_rate': 0.001}",
            "{'batch_size': 32, 'epochs': 50, 'hidden_layer_1': 64, 'hidden_layer_2': 32, 'learning_rate': 0.001}",
            "{'batch_size': 32, 'epochs': 50, 'hidden_layer_1': 64, 'hidden_layer_2': 32, 'learning_rate': 0.001}",
            "{'batch_size': 32, 'epochs': 50, 'hidden_layer_1': 64, 'hidden_layer_2': 32, 'learning_rate': 0.001}",
            "{'batch_size': 32, 'epochs': 50, 'hidden_layer_1': 64, 'hidden_layer_2': 32, 'learning_rate': 0.001}",
            "{'batch_size': 32, 'epochs': 50, 'hidden_layer_1': 64, 'hidden_layer_2': 32, 'learning_rate': 0.001}",
            "{'batch_size': 32, 'epochs': 50, 'hidden_layer_1': 64, 'hidden_layer_2': 32, 'learning_rate': 0.001}",
            "{'batch_size': 32, 'epochs': 50, 'hidden_layer_1': 64, 'hidden_layer_2': 32, 'learning_rate': 0.001}",
            "{'batch_size': 32, 'epochs': 50, 'hidden_layer_1': 64, 'hidden_layer_2': 32, 'learning_rate': 0.001}",
            "{'batch_size': 32, 'epochs': 50, 'hidden_layer_1': 64, 'hidden_layer_2': 32, 'learning_rate': 0.001}",
            "{'batch_size': 32, 'epochs': 50, 'hidden_layer_1': 64, 'hidden_layer_2': 32, 'learning_rate': 0.001}",
            "{'batch_size': 32, 'epochs': 50, 'hidden_layer_1': 64, 'hidden_layer_2': 32, 'learning_rate': 0.001}",
            "{'batch_size': 32, 'epochs': 50, 'hidden_layer_1': 64, 'hidden_layer_2': 32, 'learning_rate': 0.001}",
            "{'batch_size': 32, 'epochs': 50, 'hidden_layer_1': 64, 'hidden_layer_2': 32, 'learning_rate': 0.001}",
            "{'batch_size': 32, 'epochs': 50, 'hidden_layer_1': 64, 'hidden_layer_2': 32, 'learning_rate': 0.001}",
            "{'batch_size': 32, 'epochs': 50, 'hidden_layer_1': 64, 'hidden_layer_2': 32, 'learning_rate': 0.001}",
            "{'batch_size': 32, 'epochs': 50, 'hidden_layer_1': 64, 'hidden_layer_2': 32, 'learning_rate': 0.001}",
            "{'batch_size': 32, 'epochs': 50, 'hidden_layer_1': 64, 'hidden_layer_2': 32, 'learning_rate': 0.001}",
            "{'batch_size': 32, 'epochs': 50, 'hidden_layer_1': 64, 'hidden_layer_2': 32, 'learning_rate': 0.001}",
            "{'batch_size': 32, 'epochs': 50, 'hidden_layer_1': 64, 'hidden_layer_2': 32, 'learning_rate': 0.001}",
            "{'batch_size': 32, 'epochs': 50, 'hidden_layer_1': 64, 'hidden_layer_2': 32, 'learning_rate': 0.001}",
            "{'batch_size': 32, 'epochs': 50, 'hidden_layer_1': 64, 'hidden_layer_2': 32, 'learning_rate': 0.001}",
            "{'batch_size': 32, 'epochs': 50, 'hidden_layer_1': 64, 'hidden_layer_2': 32, 'learning_rate': 0.001}",
            "{'batch_size': 32, 'epochs': 50, 'hidden_layer_1': 64, 'hidden_layer_2': 32, 'learning_rate': 0.001}",
            "{'batch_size': 32, 'epochs': 50, 'hidden_layer_1': 64, 'hidden_layer_2': 32, 'learning_rate': 0.001}",
            "{'batch_size': 32, 'epochs': 50, 'hidden_layer_1': 64, 'hidden_layer_2': 32, 'learning_rate': 0.001}"
           ],
           [
            0.9402985074626866,
            0.9508196721311475,
            0.9508196721311475,
            0.9354838709677419,
            0.9375,
            0.9491525423728814,
            0.9473684210526315,
            0.9508196721311475,
            0.9473684210526315,
            0.9384615384615385,
            0.9365079365079365,
            0.9365079365079365,
            0.9420289855072463,
            0.9393939393939394,
            0.95,
            0.9444444444444444,
            0.9464285714285714,
            0.9508196721311475,
            0.9393939393939394,
            0.9508196721311475,
            0.9491525423728814,
            0.9491525423728814,
            0.9473684210526315,
            0.9491525423728814,
            0.9454545454545454,
            0.9473684210526315,
            0.9444444444444444,
            0.95,
            0.9411764705882353,
            0.9482758620689655,
            0.9393939393939394,
            0.9354838709677419,
            0.9508196721311475,
            0.9354838709677419,
            0.9423076923076923,
            0.9454545454545454,
            0.9354838709677419,
            0.9411764705882353,
            0.95,
            0.9354838709677419,
            0.9482758620689655,
            0.9375,
            0.95,
            0.9482758620689655,
            0.95,
            0.9354838709677419,
            0.9464285714285714,
            0.9365079365079365,
            0.9482758620689655,
            0.9433962264150944
           ],
           [
            1,
            1,
            1,
            1,
            1,
            1,
            1,
            1,
            1,
            1,
            1,
            1,
            1,
            1,
            1,
            1,
            1,
            1,
            1,
            1,
            1,
            1,
            1,
            1,
            1,
            1,
            1,
            1,
            1,
            1,
            1,
            1,
            1,
            1,
            1,
            1,
            1,
            1,
            1,
            1,
            1,
            1,
            1,
            1,
            1,
            1,
            1,
            1,
            1,
            1
           ],
           [
            0.9692307692307692,
            0.9747899159663865,
            0.9747899159663865,
            0.9666666666666667,
            0.967741935483871,
            0.9739130434782609,
            0.972972972972973,
            0.9747899159663865,
            0.972972972972973,
            0.9682539682539683,
            0.9672131147540983,
            0.9672131147540983,
            0.9701492537313433,
            0.96875,
            0.9743589743589743,
            0.9714285714285714,
            0.9724770642201835,
            0.9747899159663865,
            0.96875,
            0.9747899159663865,
            0.9739130434782609,
            0.9739130434782609,
            0.972972972972973,
            0.9739130434782609,
            0.9719626168224299,
            0.972972972972973,
            0.9714285714285714,
            0.9743589743589743,
            0.9696969696969697,
            0.9734513274336283,
            0.96875,
            0.9666666666666667,
            0.9747899159663865,
            0.9666666666666667,
            0.9702970297029703,
            0.9719626168224299,
            0.9666666666666667,
            0.9696969696969697,
            0.9743589743589743,
            0.9666666666666667,
            0.9734513274336283,
            0.967741935483871,
            0.9743589743589743,
            0.9734513274336283,
            0.9743589743589743,
            0.9666666666666667,
            0.9724770642201835,
            0.9672131147540983,
            0.9734513274336283,
            0.970873786407767
           ],
           [
            4,
            3,
            3,
            4,
            4,
            3,
            3,
            3,
            3,
            4,
            4,
            4,
            4,
            4,
            3,
            3,
            3,
            3,
            4,
            3,
            3,
            3,
            3,
            3,
            3,
            3,
            3,
            3,
            4,
            3,
            4,
            4,
            3,
            4,
            3,
            3,
            4,
            4,
            3,
            4,
            3,
            4,
            3,
            3,
            3,
            4,
            3,
            4,
            3,
            3
           ]
          ]
         },
         "header": {
          "align": "left",
          "fill": {
           "color": "paleturquoise"
          },
          "values": [
           "Node",
           "Best Parameters",
           "Accuracy",
           "Precision",
           "F1 Score",
           "Anomalies Detected"
          ]
         },
         "type": "table"
        }
       ],
       "layout": {
        "template": {
         "data": {
          "bar": [
           {
            "error_x": {
             "color": "#2a3f5f"
            },
            "error_y": {
             "color": "#2a3f5f"
            },
            "marker": {
             "line": {
              "color": "#E5ECF6",
              "width": 0.5
             },
             "pattern": {
              "fillmode": "overlay",
              "size": 10,
              "solidity": 0.2
             }
            },
            "type": "bar"
           }
          ],
          "barpolar": [
           {
            "marker": {
             "line": {
              "color": "#E5ECF6",
              "width": 0.5
             },
             "pattern": {
              "fillmode": "overlay",
              "size": 10,
              "solidity": 0.2
             }
            },
            "type": "barpolar"
           }
          ],
          "carpet": [
           {
            "aaxis": {
             "endlinecolor": "#2a3f5f",
             "gridcolor": "white",
             "linecolor": "white",
             "minorgridcolor": "white",
             "startlinecolor": "#2a3f5f"
            },
            "baxis": {
             "endlinecolor": "#2a3f5f",
             "gridcolor": "white",
             "linecolor": "white",
             "minorgridcolor": "white",
             "startlinecolor": "#2a3f5f"
            },
            "type": "carpet"
           }
          ],
          "choropleth": [
           {
            "colorbar": {
             "outlinewidth": 0,
             "ticks": ""
            },
            "type": "choropleth"
           }
          ],
          "contour": [
           {
            "colorbar": {
             "outlinewidth": 0,
             "ticks": ""
            },
            "colorscale": [
             [
              0,
              "#0d0887"
             ],
             [
              0.1111111111111111,
              "#46039f"
             ],
             [
              0.2222222222222222,
              "#7201a8"
             ],
             [
              0.3333333333333333,
              "#9c179e"
             ],
             [
              0.4444444444444444,
              "#bd3786"
             ],
             [
              0.5555555555555556,
              "#d8576b"
             ],
             [
              0.6666666666666666,
              "#ed7953"
             ],
             [
              0.7777777777777778,
              "#fb9f3a"
             ],
             [
              0.8888888888888888,
              "#fdca26"
             ],
             [
              1,
              "#f0f921"
             ]
            ],
            "type": "contour"
           }
          ],
          "contourcarpet": [
           {
            "colorbar": {
             "outlinewidth": 0,
             "ticks": ""
            },
            "type": "contourcarpet"
           }
          ],
          "heatmap": [
           {
            "colorbar": {
             "outlinewidth": 0,
             "ticks": ""
            },
            "colorscale": [
             [
              0,
              "#0d0887"
             ],
             [
              0.1111111111111111,
              "#46039f"
             ],
             [
              0.2222222222222222,
              "#7201a8"
             ],
             [
              0.3333333333333333,
              "#9c179e"
             ],
             [
              0.4444444444444444,
              "#bd3786"
             ],
             [
              0.5555555555555556,
              "#d8576b"
             ],
             [
              0.6666666666666666,
              "#ed7953"
             ],
             [
              0.7777777777777778,
              "#fb9f3a"
             ],
             [
              0.8888888888888888,
              "#fdca26"
             ],
             [
              1,
              "#f0f921"
             ]
            ],
            "type": "heatmap"
           }
          ],
          "heatmapgl": [
           {
            "colorbar": {
             "outlinewidth": 0,
             "ticks": ""
            },
            "colorscale": [
             [
              0,
              "#0d0887"
             ],
             [
              0.1111111111111111,
              "#46039f"
             ],
             [
              0.2222222222222222,
              "#7201a8"
             ],
             [
              0.3333333333333333,
              "#9c179e"
             ],
             [
              0.4444444444444444,
              "#bd3786"
             ],
             [
              0.5555555555555556,
              "#d8576b"
             ],
             [
              0.6666666666666666,
              "#ed7953"
             ],
             [
              0.7777777777777778,
              "#fb9f3a"
             ],
             [
              0.8888888888888888,
              "#fdca26"
             ],
             [
              1,
              "#f0f921"
             ]
            ],
            "type": "heatmapgl"
           }
          ],
          "histogram": [
           {
            "marker": {
             "pattern": {
              "fillmode": "overlay",
              "size": 10,
              "solidity": 0.2
             }
            },
            "type": "histogram"
           }
          ],
          "histogram2d": [
           {
            "colorbar": {
             "outlinewidth": 0,
             "ticks": ""
            },
            "colorscale": [
             [
              0,
              "#0d0887"
             ],
             [
              0.1111111111111111,
              "#46039f"
             ],
             [
              0.2222222222222222,
              "#7201a8"
             ],
             [
              0.3333333333333333,
              "#9c179e"
             ],
             [
              0.4444444444444444,
              "#bd3786"
             ],
             [
              0.5555555555555556,
              "#d8576b"
             ],
             [
              0.6666666666666666,
              "#ed7953"
             ],
             [
              0.7777777777777778,
              "#fb9f3a"
             ],
             [
              0.8888888888888888,
              "#fdca26"
             ],
             [
              1,
              "#f0f921"
             ]
            ],
            "type": "histogram2d"
           }
          ],
          "histogram2dcontour": [
           {
            "colorbar": {
             "outlinewidth": 0,
             "ticks": ""
            },
            "colorscale": [
             [
              0,
              "#0d0887"
             ],
             [
              0.1111111111111111,
              "#46039f"
             ],
             [
              0.2222222222222222,
              "#7201a8"
             ],
             [
              0.3333333333333333,
              "#9c179e"
             ],
             [
              0.4444444444444444,
              "#bd3786"
             ],
             [
              0.5555555555555556,
              "#d8576b"
             ],
             [
              0.6666666666666666,
              "#ed7953"
             ],
             [
              0.7777777777777778,
              "#fb9f3a"
             ],
             [
              0.8888888888888888,
              "#fdca26"
             ],
             [
              1,
              "#f0f921"
             ]
            ],
            "type": "histogram2dcontour"
           }
          ],
          "mesh3d": [
           {
            "colorbar": {
             "outlinewidth": 0,
             "ticks": ""
            },
            "type": "mesh3d"
           }
          ],
          "parcoords": [
           {
            "line": {
             "colorbar": {
              "outlinewidth": 0,
              "ticks": ""
             }
            },
            "type": "parcoords"
           }
          ],
          "pie": [
           {
            "automargin": true,
            "type": "pie"
           }
          ],
          "scatter": [
           {
            "fillpattern": {
             "fillmode": "overlay",
             "size": 10,
             "solidity": 0.2
            },
            "type": "scatter"
           }
          ],
          "scatter3d": [
           {
            "line": {
             "colorbar": {
              "outlinewidth": 0,
              "ticks": ""
             }
            },
            "marker": {
             "colorbar": {
              "outlinewidth": 0,
              "ticks": ""
             }
            },
            "type": "scatter3d"
           }
          ],
          "scattercarpet": [
           {
            "marker": {
             "colorbar": {
              "outlinewidth": 0,
              "ticks": ""
             }
            },
            "type": "scattercarpet"
           }
          ],
          "scattergeo": [
           {
            "marker": {
             "colorbar": {
              "outlinewidth": 0,
              "ticks": ""
             }
            },
            "type": "scattergeo"
           }
          ],
          "scattergl": [
           {
            "marker": {
             "colorbar": {
              "outlinewidth": 0,
              "ticks": ""
             }
            },
            "type": "scattergl"
           }
          ],
          "scattermapbox": [
           {
            "marker": {
             "colorbar": {
              "outlinewidth": 0,
              "ticks": ""
             }
            },
            "type": "scattermapbox"
           }
          ],
          "scatterpolar": [
           {
            "marker": {
             "colorbar": {
              "outlinewidth": 0,
              "ticks": ""
             }
            },
            "type": "scatterpolar"
           }
          ],
          "scatterpolargl": [
           {
            "marker": {
             "colorbar": {
              "outlinewidth": 0,
              "ticks": ""
             }
            },
            "type": "scatterpolargl"
           }
          ],
          "scatterternary": [
           {
            "marker": {
             "colorbar": {
              "outlinewidth": 0,
              "ticks": ""
             }
            },
            "type": "scatterternary"
           }
          ],
          "surface": [
           {
            "colorbar": {
             "outlinewidth": 0,
             "ticks": ""
            },
            "colorscale": [
             [
              0,
              "#0d0887"
             ],
             [
              0.1111111111111111,
              "#46039f"
             ],
             [
              0.2222222222222222,
              "#7201a8"
             ],
             [
              0.3333333333333333,
              "#9c179e"
             ],
             [
              0.4444444444444444,
              "#bd3786"
             ],
             [
              0.5555555555555556,
              "#d8576b"
             ],
             [
              0.6666666666666666,
              "#ed7953"
             ],
             [
              0.7777777777777778,
              "#fb9f3a"
             ],
             [
              0.8888888888888888,
              "#fdca26"
             ],
             [
              1,
              "#f0f921"
             ]
            ],
            "type": "surface"
           }
          ],
          "table": [
           {
            "cells": {
             "fill": {
              "color": "#EBF0F8"
             },
             "line": {
              "color": "white"
             }
            },
            "header": {
             "fill": {
              "color": "#C8D4E3"
             },
             "line": {
              "color": "white"
             }
            },
            "type": "table"
           }
          ]
         },
         "layout": {
          "annotationdefaults": {
           "arrowcolor": "#2a3f5f",
           "arrowhead": 0,
           "arrowwidth": 1
          },
          "autotypenumbers": "strict",
          "coloraxis": {
           "colorbar": {
            "outlinewidth": 0,
            "ticks": ""
           }
          },
          "colorscale": {
           "diverging": [
            [
             0,
             "#8e0152"
            ],
            [
             0.1,
             "#c51b7d"
            ],
            [
             0.2,
             "#de77ae"
            ],
            [
             0.3,
             "#f1b6da"
            ],
            [
             0.4,
             "#fde0ef"
            ],
            [
             0.5,
             "#f7f7f7"
            ],
            [
             0.6,
             "#e6f5d0"
            ],
            [
             0.7,
             "#b8e186"
            ],
            [
             0.8,
             "#7fbc41"
            ],
            [
             0.9,
             "#4d9221"
            ],
            [
             1,
             "#276419"
            ]
           ],
           "sequential": [
            [
             0,
             "#0d0887"
            ],
            [
             0.1111111111111111,
             "#46039f"
            ],
            [
             0.2222222222222222,
             "#7201a8"
            ],
            [
             0.3333333333333333,
             "#9c179e"
            ],
            [
             0.4444444444444444,
             "#bd3786"
            ],
            [
             0.5555555555555556,
             "#d8576b"
            ],
            [
             0.6666666666666666,
             "#ed7953"
            ],
            [
             0.7777777777777778,
             "#fb9f3a"
            ],
            [
             0.8888888888888888,
             "#fdca26"
            ],
            [
             1,
             "#f0f921"
            ]
           ],
           "sequentialminus": [
            [
             0,
             "#0d0887"
            ],
            [
             0.1111111111111111,
             "#46039f"
            ],
            [
             0.2222222222222222,
             "#7201a8"
            ],
            [
             0.3333333333333333,
             "#9c179e"
            ],
            [
             0.4444444444444444,
             "#bd3786"
            ],
            [
             0.5555555555555556,
             "#d8576b"
            ],
            [
             0.6666666666666666,
             "#ed7953"
            ],
            [
             0.7777777777777778,
             "#fb9f3a"
            ],
            [
             0.8888888888888888,
             "#fdca26"
            ],
            [
             1,
             "#f0f921"
            ]
           ]
          },
          "colorway": [
           "#636efa",
           "#EF553B",
           "#00cc96",
           "#ab63fa",
           "#FFA15A",
           "#19d3f3",
           "#FF6692",
           "#B6E880",
           "#FF97FF",
           "#FECB52"
          ],
          "font": {
           "color": "#2a3f5f"
          },
          "geo": {
           "bgcolor": "white",
           "lakecolor": "white",
           "landcolor": "#E5ECF6",
           "showlakes": true,
           "showland": true,
           "subunitcolor": "white"
          },
          "hoverlabel": {
           "align": "left"
          },
          "hovermode": "closest",
          "mapbox": {
           "style": "light"
          },
          "paper_bgcolor": "white",
          "plot_bgcolor": "#E5ECF6",
          "polar": {
           "angularaxis": {
            "gridcolor": "white",
            "linecolor": "white",
            "ticks": ""
           },
           "bgcolor": "#E5ECF6",
           "radialaxis": {
            "gridcolor": "white",
            "linecolor": "white",
            "ticks": ""
           }
          },
          "scene": {
           "xaxis": {
            "backgroundcolor": "#E5ECF6",
            "gridcolor": "white",
            "gridwidth": 2,
            "linecolor": "white",
            "showbackground": true,
            "ticks": "",
            "zerolinecolor": "white"
           },
           "yaxis": {
            "backgroundcolor": "#E5ECF6",
            "gridcolor": "white",
            "gridwidth": 2,
            "linecolor": "white",
            "showbackground": true,
            "ticks": "",
            "zerolinecolor": "white"
           },
           "zaxis": {
            "backgroundcolor": "#E5ECF6",
            "gridcolor": "white",
            "gridwidth": 2,
            "linecolor": "white",
            "showbackground": true,
            "ticks": "",
            "zerolinecolor": "white"
           }
          },
          "shapedefaults": {
           "line": {
            "color": "#2a3f5f"
           }
          },
          "ternary": {
           "aaxis": {
            "gridcolor": "white",
            "linecolor": "white",
            "ticks": ""
           },
           "baxis": {
            "gridcolor": "white",
            "linecolor": "white",
            "ticks": ""
           },
           "bgcolor": "#E5ECF6",
           "caxis": {
            "gridcolor": "white",
            "linecolor": "white",
            "ticks": ""
           }
          },
          "title": {
           "x": 0.05
          },
          "xaxis": {
           "automargin": true,
           "gridcolor": "white",
           "linecolor": "white",
           "ticks": "",
           "title": {
            "standoff": 15
           },
           "zerolinecolor": "white",
           "zerolinewidth": 2
          },
          "yaxis": {
           "automargin": true,
           "gridcolor": "white",
           "linecolor": "white",
           "ticks": "",
           "title": {
            "standoff": 15
           },
           "zerolinecolor": "white",
           "zerolinewidth": 2
          }
         }
        },
        "title": {
         "text": "Autoencoder Accuracy and Anomalies Summary Across Nodes",
         "x": 0.5
        }
       }
      }
     },
     "metadata": {},
     "output_type": "display_data"
    },
    {
     "name": "stdout",
     "output_type": "stream",
     "text": [
      "Summary saved to: /Users/zxgan/FYP_Kubernetes/Accuracy_Summary/autoencoder_accuracy_and_anomalies_summary.csv\n"
     ]
    }
   ],
   "source": [
    "import pandas as pd\n",
    "import numpy as np\n",
    "import plotly.graph_objects as go\n",
    "from sklearn.metrics import accuracy_score\n",
    "from tensorflow.keras.models import Sequential\n",
    "from tensorflow.keras.layers import Dense\n",
    "from tensorflow.keras.optimizers import Adam\n",
    "from tensorflow.keras.callbacks import EarlyStopping\n",
    "from sklearn.model_selection import ParameterGrid\n",
    "from sklearn.metrics import precision_score, f1_score\n",
    "import os\n",
    "\n",
    "# File path and naming convention\n",
    "directory = '/Users/zxgan/FYP_Kubernetes/Dataset/cleaned_dataset/'\n",
    "file_prefix = 'node_node_'\n",
    "file_suffix = '_dataset.csv'\n",
    "num_files = 50\n",
    "\n",
    "# Parameter grid for autoencoder tuning\n",
    "param_grid_ae = {\n",
    "    'hidden_layer_1': [64, 128, 256],\n",
    "    'hidden_layer_2': [32, 64, 128],\n",
    "    'learning_rate': [0.001, 0.0001],\n",
    "    'batch_size': [32, 64],\n",
    "    'epochs': [50, 100],\n",
    "}\n",
    "\n",
    "# Initialize summary\n",
    "results_summary = []\n",
    "\n",
    "# Loop through each dataset\n",
    "for i in range(num_files):\n",
    "    file_path = f\"{directory}{file_prefix}{i}{file_suffix}\"\n",
    "    print(f\"Processing file: {file_path}\")\n",
    "    \n",
    "    # Load dataset\n",
    "    data = pd.read_csv(file_path)\n",
    "    data.drop(columns=['timestamp', 'pod_status_Pending', 'pod_status_Running', \n",
    "                       'pod_status_Succeeded', 'pod_status_Failed', 'pod_status_Unknown'], inplace=True)\n",
    "    numeric_data = data.select_dtypes(include=[np.number])\n",
    "    \n",
    "    # Split into training and testing sets\n",
    "    from sklearn.model_selection import train_test_split\n",
    "    X_train, X_test = train_test_split(numeric_data, test_size=0.2, random_state=42)\n",
    "    \n",
    "    best_accuracy_ae = 0\n",
    "    best_f1_score_ae = 0\n",
    "    best_precision_ae = 0\n",
    "    best_autoencoder = None\n",
    "    best_params_ae = None\n",
    "    num_anomalies = 0\n",
    "\n",
    "    # Train autoencoder for parameter grid\n",
    "    for params in ParameterGrid(param_grid_ae):\n",
    "        print(f\"Node {i} - Testing parameters: {params}\")\n",
    "        autoencoder = Sequential([\n",
    "            Dense(params['hidden_layer_1'], activation='relu', input_shape=(X_train.shape[1],)),\n",
    "            Dense(params['hidden_layer_2'], activation='relu'),\n",
    "            Dense(16, activation='relu'),\n",
    "            Dense(params['hidden_layer_2'], activation='relu'),\n",
    "            Dense(params['hidden_layer_1'], activation='relu'),\n",
    "            Dense(X_train.shape[1], activation='sigmoid')\n",
    "        ])\n",
    "        autoencoder.compile(optimizer=Adam(learning_rate=params['learning_rate']), loss='mse')\n",
    "        early_stopping = EarlyStopping(monitor='val_loss', patience=10, restore_best_weights=True)\n",
    "        history = autoencoder.fit(\n",
    "            X_train, X_train, epochs=params['epochs'], batch_size=params['batch_size'],\n",
    "            validation_split=0.2, callbacks=[early_stopping], verbose=0\n",
    "        )\n",
    "        \n",
    "        # Predict and calculate accuracy\n",
    "        X_test_pred = autoencoder.predict(X_test)\n",
    "        test_loss = np.mean(np.power(X_test_pred - X_test, 2), axis=1)\n",
    "        threshold = np.percentile(test_loss, 95)\n",
    "        y_test_pred = np.where(test_loss > threshold, 0, 1)\n",
    "        accuracy = accuracy_score(np.ones(len(y_test_pred)), y_test_pred)\n",
    "        precision = precision_score(np.ones(len(y_test_pred)), y_test_pred)\n",
    "        f1 = f1_score(np.ones(len(y_test_pred)), y_test_pred)\n",
    "        \n",
    "        if accuracy > best_accuracy_ae:\n",
    "            best_accuracy_ae = accuracy\n",
    "            best_f1_score_ae = f1\n",
    "            best_precision_ae = precision\n",
    "            best_autoencoder = autoencoder\n",
    "            best_params_ae = params\n",
    "            num_anomalies = (y_test_pred == 0).sum()  # Count anomalies (where prediction is 0)\n",
    "    \n",
    "    print(f\"Node {i} - Best Parameters: {best_params_ae}\")\n",
    "    print(f\"Node {i} - Best Accuracy: {best_accuracy_ae}\")\n",
    "    print(f\"Node {i} - Number of anomalies detected: {num_anomalies}\")\n",
    "    \n",
    "    # Save the best model\n",
    "    model_filename = f\"/Users/zxgan/FYP_Kubernetes/Autoencoder_Model/Autoencoder_Model_Node_{i}.h5\"\n",
    "    best_autoencoder.save(model_filename)\n",
    "    print(f\"Model saved: {model_filename}\")\n",
    "    \n",
    "    # Collect results for the node\n",
    "    results_summary.append({\n",
    "        \"Node\": f\"Node_{i}\",\n",
    "        \"Best Parameters\": str(best_params_ae),\n",
    "        \"Accuracy\": best_accuracy_ae,\n",
    "        \"Precision\": best_precision_ae,\n",
    "        \"F1 Score\": best_f1_score_ae,\n",
    "        \"Anomalies Detected\": num_anomalies\n",
    "    })\n",
    "\n",
    "# Create a DataFrame for the summary\n",
    "results_df = pd.DataFrame(results_summary)\n",
    "\n",
    "# Display the summary in an interactive table\n",
    "fig_summary = go.Figure(data=[go.Table(\n",
    "    header=dict(values=list(results_df.columns),\n",
    "                fill_color='paleturquoise',\n",
    "                align='left'),\n",
    "    cells=dict(values=[results_df[col] for col in results_df.columns],\n",
    "               fill_color='lavender',\n",
    "               align='left'))\n",
    "])\n",
    "fig_summary.update_layout(title=\"Autoencoder Accuracy and Anomalies Summary Across Nodes\", title_x=0.5)\n",
    "fig_summary.show()\n",
    "\n",
    "# Save the summary to a CSV file\n",
    "summary_csv_path = os.path.join(directory, \"/Users/zxgan/FYP_Kubernetes/Accuracy_Summary/autoencoder_accuracy_and_anomalies_summary.csv\")\n",
    "results_df.to_csv(summary_csv_path, index=False)\n",
    "print(f\"Summary saved to: {summary_csv_path}\")"
   ]
  }
 ],
 "metadata": {
  "kernelspec": {
   "display_name": "Python 3",
   "language": "python",
   "name": "python3"
  },
  "language_info": {
   "codemirror_mode": {
    "name": "ipython",
    "version": 3
   },
   "file_extension": ".py",
   "mimetype": "text/x-python",
   "name": "python",
   "nbconvert_exporter": "python",
   "pygments_lexer": "ipython3",
   "version": "3.11.3"
  }
 },
 "nbformat": 4,
 "nbformat_minor": 2
}
